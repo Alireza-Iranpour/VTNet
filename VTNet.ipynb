{
  "nbformat": 4,
  "nbformat_minor": 0,
  "metadata": {
    "colab": {
      "name": "ET_DL.ipynb",
      "provenance": [],
      "collapsed_sections": [
        "7XcUVmtAsBCX"
      ]
    },
    "kernelspec": {
      "name": "python3",
      "display_name": "Python 3"
    }
  },
  "cells": [
    {
      "cell_type": "code",
      "metadata": {
        "id": "9frrrD8I7u2e"
      },
      "source": [
        "import pandas as pd\n",
        "import numpy as np\n",
        "import os\n",
        "import zipfile\n",
        "import requests\n",
        "import shutil\n",
        "import time\n",
        "from tqdm.notebook import tqdm\n",
        "import PIL\n",
        "import pprint\n",
        "from termcolor import colored\n",
        "from PIL import Image, ImageOps\n",
        "import matplotlib.pyplot as plt\n",
        "\n",
        "from sklearn.model_selection import GroupKFold, GroupShuffleSplit\n",
        "from sklearn.metrics import recall_score, f1_score, roc_auc_score, roc_curve, accuracy_score\n",
        "\n",
        "import tensorflow as tf\n",
        "# import tensorflow_addons as tfa\n",
        "from tensorflow import keras\n",
        "from tensorflow.keras import layers"
      ],
      "execution_count": null,
      "outputs": []
    },
    {
      "cell_type": "markdown",
      "metadata": {
        "id": "olWIYB6TUrLQ"
      },
      "source": [
        "# Utility functions"
      ]
    },
    {
      "cell_type": "code",
      "metadata": {
        "id": "63qvCfvmd_Ip"
      },
      "source": [
        "def handle_directory_existence(directory_path):\n",
        "    \"\"\" creates the directory if it does not already exist \"\"\"\n",
        "    if not os.path.exists(directory_path):\n",
        "        os.makedirs(directory_path)\n",
        "\n",
        "# ---------------------------------------------------\n",
        "def generate_scanpath(sequence_path: str, x_col: str, y_col: str):\n",
        "    \"\"\"\n",
        "    sequence_path: path to a single csv sequence file\n",
        "    x_col, y_col: columns to be used as coordinates\n",
        "    saves the scanpath representation with the same name and path \n",
        "    structure as the sequence file in another folder called 'scanpaths'\n",
        "    \"\"\"\n",
        "    sequence = pd.read_csv(sequence_path)\n",
        "\n",
        "    # remove invalid rows:\n",
        "    sequence = sequence[sequence.iloc[:, 0] != -1]\n",
        "    # show fixations points:\n",
        "    cmap = ['plasma', 'Greys'][0]\n",
        "    plt.scatter(sequence[x_col], sequence[y_col], c=sequence.index, cmap=cmap, alpha=0.5)\n",
        "    # show connections:\n",
        "    plt.plot(sequence[x_col], sequence[y_col], alpha=0.3, c='k')\n",
        "    # set sxes limits:\n",
        "    plt.axis([0, 1100, 0, 1100])\n",
        "    # set origin to (top) left \n",
        "    plt.gca().invert_yaxis()\n",
        "    plt.axis('off')\n",
        "    dest_path = sequence_path.replace('sequences', 'scanpaths').replace('csv', 'png')\n",
        "    handle_directory_existence(os.sep.join(dest_path.split(os.sep)[:-1]))\n",
        "    plt.savefig(dest_path, bbox_inches='tight')\n",
        "    plt.clf()\n",
        "\n",
        "# ---------------------------------------------------\n",
        "\n",
        "def generate_scanpaths_from_sequences(path_to_sequences: str, x_col: str, y_col: str):\n",
        "    class_folders = os.listdir(path_to_sequences)\n",
        "    for class_folder in class_folders:\n",
        "        for sequence_name in tqdm(os.listdir(os.path.join(path_to_sequences, class_folder))):\n",
        "            sequence_path = os.path.join(path_to_sequences, class_folder, sequence_name)\n",
        "            generate_scanpath(sequence_path, x_col='r_GazePointX (ADCSpx)', y_col='r_GazePointY (ADCSpx)')\n",
        "\n",
        "# ---------------------------------------------------\n",
        "\n",
        "def print_metrics(metrics: dict):\n",
        "    \"\"\" prints the metrics\"\"\"\n",
        "    for metric, value in metrics.items():\n",
        "        if type(value) == dict:\n",
        "            value = {k: str(value[k])[:6] for k in value.keys()}\n",
        "        else: \n",
        "            value = str(value)[:6]\n",
        "        if metric == 'loss':\n",
        "            loss_metric, loss_value = (metric, value)\n",
        "        else:\n",
        "            print(f\"\\t - {metric} {''.join(['.'] * (15 - len(metric)))} : {value}\")\n",
        "    print(f\"\\t - {loss_metric} {''.join(['.'] * (15 - len(loss_metric)))} : {loss_value}\")\n",
        "\n",
        "# ---------------------------------------------------\n",
        "\n",
        "def average_metrics(metrics: list) -> dict:\n",
        "    \"\"\"\n",
        "    receives a list of dictionaries with metric names as keys\n",
        "    values can be either: \n",
        "      - a single number (for a single fold) or \n",
        "      - a dictionary in the form {'mean': value, 'std': value} (for a single repetition)\n",
        "    \"\"\"\n",
        "    if type(list(metrics[0].values())[0]) == dict:\n",
        "        return {k: {'mean': np.mean([m[k]['mean'] for m in metrics]), 'std': np.std([m[k]['mean'] for m in metrics])} for k in metrics[0].keys()}\n",
        "    else:\n",
        "        return {k: {'mean': np.mean([m[k] for m in metrics]), 'std': np.std([m[k] for m in metrics])} for k in metrics[0].keys()}\n",
        "\n",
        "# ---------------------------------------------------\n",
        "\n",
        "def save_cv_results(cv_results: dict, dest: str, rep: int):\n",
        "    results = pd.DataFrame()\n",
        "    for set_type in ['test', 'valid', 'train']:\n",
        "        for fold, fold_dict in enumerate(cv_results[set_type]):\n",
        "            for metric in fold_dict.keys():\n",
        "                results.loc[fold, f'{set_type}_{metric}'] = fold_dict[metric]\n",
        "    results.insert(0, 'fold', results.index)\n",
        "    handle_directory_existence(dest)\n",
        "    results = results.round(5)\n",
        "    results.to_csv(os.path.join(dest, f'evaluation_seed_{rep}.csv'), index=False)\n",
        "\n",
        "# ---------------------------------------------------\n",
        "\n",
        "def save_rcv_results(rcv_results: dict, dest: str):\n",
        "    results = pd.DataFrame()\n",
        "    for set_type in ['test', 'valid', 'train']:\n",
        "        for seed, seed_dict in enumerate(rcv_results[set_type]):\n",
        "            for metric in seed_dict.keys():\n",
        "                results.loc[seed, f'{set_type}_{metric}_mean'] = seed_dict[metric]['mean']\n",
        "                results.loc[seed, f'{set_type}_{metric}_std'] = seed_dict[metric]['std']\n",
        "    results.insert(0, 'seed', results.index)\n",
        "    handle_directory_existence(dest)\n",
        "    results = results.round(5)\n",
        "    results.to_csv(os.path.join(dest, f'evaluation_all_seeds.csv'), index=False)"
      ],
      "execution_count": null,
      "outputs": []
    },
    {
      "cell_type": "code",
      "metadata": {
        "id": "50CJGvWNEmng"
      },
      "source": [
        "class ETDataset():\n",
        "\n",
        "    def __init__(self, modalities: list, max_seq_length: int, image_shape: tuple, path_to_sequences, path_to_images):\n",
        "        self.path_to_sequences = path_to_sequences\n",
        "        self.path_to_images = path_to_images\n",
        "        self.modalities = modalities\n",
        "        self.max_seq_length = max_seq_length\n",
        "        self.image_shape = image_shape\n",
        "\n",
        "    def preprocess_sequence(self, sequence):\n",
        "        sequence = tf.expand_dims(sequence, axis=0)\n",
        "        sequence = tf.keras.preprocessing.sequence.pad_sequences(\n",
        "            sequence, maxlen=self.max_seq_length, dtype='float32', \n",
        "            padding='pre', truncating='pre', value=0)\n",
        "        sequence = tf.squeeze(sequence, axis=0)\n",
        "        return sequence\n",
        "\n",
        "    def load_csv(self, filename: str, columns: list=None):\n",
        "        path = os.path.join(self.path_to_sequences, filename + '.csv')\n",
        "        if columns:\n",
        "            sequence = pd.read_csv(path, usecols=columns).values\n",
        "        else:\n",
        "            sequence = pd.read_csv(path).values\n",
        "        sequence = self.preprocess_sequence(sequence)\n",
        "        return sequence\n",
        "\n",
        "    def preprocess_image(self, image):\n",
        "        im = image.resize((self.image_shape[0], self.image_shape[1]), Image.ANTIALIAS)\n",
        "        # im = ImageOps.grayscale(im)\n",
        "        # im = np.expand_dims(np.array(im), axis=-1)\n",
        "        return im\n",
        "\n",
        "    def load_image(self, filename: str):\n",
        "        path = os.path.join(self.path_to_images, filename + '.png')\n",
        "        image = PIL.Image.open(path).convert('RGB')\n",
        "        image = self.preprocess_image(image)\n",
        "        return image\n",
        "\n",
        "    def load_nparray(self, filenames: list, labels: list):\n",
        "        \"\"\"\n",
        "        loads nparrays of shape (examples, shape_of_each_example) for each modality\n",
        "        modalities: list of posssible modalities options include [sequence, image]\n",
        "        \"\"\"\n",
        "        dataset = {'x': {}, 'y': np.array(labels)}\n",
        "\n",
        "        if 'sequence' in self.modalities:\n",
        "            cols = ['r_GazePointX (ADCSpx)', 'r_GazePointY (ADCSpx)', 'DistanceLeft', 'PupilLeft', 'PupilRight']\n",
        "            dataset['x']['rnn'] = np.stack([self.load_csv(filename, columns=cols) for filename in filenames])\n",
        "\n",
        "        if 'image' in self.modalities:\n",
        "            dataset['x']['cnn'] = np.stack([self.load_image(filename) for filename in filenames])\n",
        "\n",
        "        return dataset\n",
        "        # return tf.data.Dataset.from_tensor_slices((dataset['x']['rnn'], tf.data.Dataset.from_tensor_slices(dataset['y'])))\n",
        "\n",
        "    # -------------------------------------------------------------------------\n",
        "    def load_csv_datasets(self, t: tf.Tensor):\n",
        "        filename = t.numpy().decode('utf-8')\n",
        "        return self.load_csv(filename)\n",
        "\n",
        "    def load_image_datasets(self, t: tf.Tensor):\n",
        "        filename = t.numpy().decode('utf-8')\n",
        "        return self.load_image(filename)\n",
        "\n",
        "    def load_dataset(self, filenames: list, labels: list):\n",
        "        \"\"\"\n",
        "        loads the datasets\n",
        "        modalities: list of posssible modalities options include [sequence, image]\n",
        "        \"\"\"\n",
        "        y = tf.data.Dataset.from_tensor_slices(labels)\n",
        "        dataset = {'x': {}, 'y': y}\n",
        "\n",
        "        dataset_filenames = tf.data.Dataset.from_tensor_slices(filenames)\n",
        "\n",
        "        if 'sequence' in self.modalities:\n",
        "            dataset['x']['rnn'] = dataset_filenames.map(lambda x: tf.py_function(\n",
        "                func=self.load_csv_datasets, inp=[x], Tout=tf.float32), num_parallel_calls=tf.data.AUTOTUNE)\n",
        "\n",
        "        if 'image' in self.modalities:\n",
        "            dataset['x']['cnn'] = dataset_filenames.map(lambda x: tf.py_function(\n",
        "                func=self.load_image_datasets, inp=[x], Tout=tf.float32), num_parallel_calls=tf.data.AUTOTUNE)\n",
        "\n",
        "        return tf.data.Dataset.zip((dataset['x']['rnn'], dataset['y']))\n",
        "    # -------------------------------------------------------------------------"
      ],
      "execution_count": null,
      "outputs": []
    },
    {
      "cell_type": "code",
      "metadata": {
        "id": "ePQHV92O3ApB"
      },
      "source": [
        "class Splitter():\n",
        "\n",
        "    def __init__(self, path_to_modalities: str, n_splits: int):\n",
        "        self.path_to_sequences = os.path.join(path_to_modalities, 'sequences')\n",
        "        self.path_to_scanpaths = os.path.join(path_to_modalities, 'scanpaths')\n",
        "        self.n_splits = n_splits\n",
        "        self.classes = {}\n",
        "\n",
        "    def get_group(self, filename: str) -> str:\n",
        "        \"\"\" Grouping policy \"\"\" \n",
        "        return filename.split('-')[0]\n",
        "\n",
        "    def read_filenames(self):\n",
        "        \"\"\"\n",
        "        reads all filenames inside the sequence folder with their corresponding group and label\n",
        "        \"\"\"\n",
        "        for class_folder in os.listdir(self.path_to_sequences):\n",
        "\n",
        "            label = class_folder.split('_')[0]\n",
        "            self.classes[label] = {}\n",
        "\n",
        "            class_filenames = [f[:-4] for f in os.listdir(os.path.join(self.path_to_sequences, class_folder))]\n",
        "            self.classes[label]['filenames'] = np.array([os.path.join(class_folder, f) for f in class_filenames])\n",
        "            self.classes[label]['groups'] = np.array([self.get_group(filename) for filename in class_filenames])\n",
        "            self.classes[label]['y'] = np.array([int(label)]*len(self.classes[label]['filenames']))\n",
        "\n",
        "    def split(self, seed: int):\n",
        "        \"\"\"\n",
        "        splits the filenames into {n_split} folds\n",
        "        seed: different seeds result in different splits\n",
        "        \"\"\"\n",
        "        self.read_filenames()\n",
        "        self.seed = seed\n",
        "        gss = GroupShuffleSplit(n_splits=self.n_splits, test_size=1/self.n_splits, random_state=self.seed)\n",
        "        splited = []\n",
        "\n",
        "        for fold in range(self.n_splits):\n",
        "\n",
        "            X_train_filenames, X_valid_filenames, X_test_filenames = [], [], []\n",
        "            y_train, y_valid, y_test = [], [], []\n",
        "\n",
        "            for label in self.classes.keys():\n",
        "\n",
        "                X_filenames = self.classes[label]['filenames']\n",
        "                y = self.classes[label]['y']\n",
        "                groups = self.classes[label]['groups']\n",
        "                \n",
        "                train_valid_index, test_index = list(gss.split(X_filenames, y, groups))[fold]\n",
        "                train_index, valid_index = list(gss.split(X_filenames[train_valid_index], y[train_valid_index], groups[train_valid_index]))[fold]\n",
        "\n",
        "                X_train_filenames.extend(list(X_filenames[train_valid_index][train_index])), y_train.extend(list(y[train_valid_index][train_index]))\n",
        "                X_valid_filenames.extend(list(X_filenames[train_valid_index][valid_index])), y_valid.extend(list(y[train_valid_index][valid_index]))\n",
        "                X_test_filenames.extend(list(X_filenames[test_index])),   y_test.extend(list(y[test_index]))\n",
        "\n",
        "            fold_filenames = {\n",
        "                'train': (X_train_filenames, y_train), \n",
        "                'valid': (X_valid_filenames, y_valid), \n",
        "                'test' : (X_test_filenames,  y_test)\n",
        "                }\n",
        "\n",
        "            splited.append(fold_filenames)\n",
        "\n",
        "        self.splited = splited\n",
        "\n",
        "    def get_split_info(self) -> list:\n",
        "        \"\"\" \n",
        "        shows how the data has been splited in each fold\n",
        "        \"\"\"\n",
        "        split_info = []\n",
        "        for fold_filenames in self.splited:\n",
        "\n",
        "            fold_info = {\n",
        "                'train' : list(set([self.get_group(item.split(os.sep)[-1]) for item in fold_filenames['train'][0]])),\n",
        "                'valid' : list(set([self.get_group(item.split(os.sep)[-1]) for item in fold_filenames['valid'][0]])),\n",
        "                'test'  : list(set([self.get_group(item.split(os.sep)[-1]) for item in fold_filenames['test'][0]]))\n",
        "            }\n",
        "            split_info.append(fold_info)\n",
        "\n",
        "        return split_info\n",
        "    \n",
        "    def load_splited_datasets(self, fold: int, modalities: list, max_seq_length: int=50, image_shape: tuple=(150, 150)) -> dict:\n",
        "        \"\"\"\n",
        "        loads the data based on the fold fold_filenames\n",
        "        modalities: list of posssible modalities options include [sequence, image]\n",
        "        \"\"\"\n",
        "\n",
        "        fold_filenames = self.splited[fold]\n",
        "        X_train_filenames, y_train = fold_filenames['train']\n",
        "        X_valid_filenames, y_valid = fold_filenames['valid']\n",
        "        X_test_filenames , y_test  = fold_filenames['test']\n",
        "\n",
        "        etdataset = ETDataset(modalities, max_seq_length, image_shape, self.path_to_sequences, self.path_to_scanpaths)\n",
        "        load_arrays = True\n",
        "        train_dataset   = etdataset.load_nparray(X_train_filenames, y_train) if load_arrays else etdataset.load_dataset(X_train_filenames, y_train)\n",
        "        valid_dataset   = etdataset.load_nparray(X_valid_filenames, y_valid) if load_arrays else etdataset.load_dataset(X_valid_filenames, y_valid)\n",
        "        test_dataset    = etdataset.load_nparray(X_test_filenames,  y_test)  if load_arrays else etdataset.load_dataset(X_test_filenames,  y_test)\n",
        "\n",
        "        datasets = {\n",
        "            'train': train_dataset,\n",
        "            'valid': valid_dataset,\n",
        "            'test' : test_dataset\n",
        "        }\n",
        "\n",
        "        return datasets\n",
        "  \n",
        "    def save_split_to_file(self, path_to_fold_splits: str):\n",
        "        df = pd.DataFrame(self.get_split_info())\n",
        "        df.insert(0, 'fold', df.index)\n",
        "        handle_directory_existence(path_to_fold_splits)\n",
        "        path = os.path.join(path_to_fold_splits, f'folds_seed_{self.seed}.csv')\n",
        "        df.to_csv(path, index=False)"
      ],
      "execution_count": null,
      "outputs": []
    },
    {
      "cell_type": "markdown",
      "metadata": {
        "id": "l6rB1qKtexqB"
      },
      "source": [
        "# Model"
      ]
    },
    {
      "cell_type": "code",
      "metadata": {
        "id": "CKvSx2pzewqy"
      },
      "source": [
        "class Models():\n",
        "    \n",
        "    def rnn(self, input_shape: tuple):\n",
        "\n",
        "        rnn_input = keras.Input(shape=input_shape, name='rnn')\n",
        "        # rnn_features = tf.compat.v1.keras.layers.CuDNNGRU(128, return_sequences=False)(rnn_input)\n",
        "        rnn_features = tf.compat.v1.keras.layers.GRU(128, return_sequences=False)(rnn_input)\n",
        "        rnn_features = layers.Dropout(0.4)(rnn_features)\n",
        "        rnn_features = layers.Dense(50, activation='relu')(rnn_features)\n",
        "        rnn_output = layers.Dense(2, activation='softmax')(rnn_features)\n",
        "        \n",
        "        rnn_model = keras.Model(inputs=rnn_input, outputs=rnn_output)\n",
        "        return rnn_model\n",
        "\n",
        "    def cnn(self, input_shape: tuple):\n",
        "\n",
        "        cnn_input = keras.Input(shape=input_shape, name='cnn')\n",
        "        cnn_input_scaled = layers.experimental.preprocessing.Rescaling(1./255)(cnn_input)\n",
        "        cnn_features = layers.Conv2D(32, kernel_size=(5, 5), activation='relu')(cnn_input_scaled)\n",
        "        cnn_features = layers.MaxPooling2D(pool_size=(2, 2))(cnn_features)\n",
        "        cnn_features = layers.Flatten()(cnn_features)\n",
        "        cnn_features = layers.Dense(50, activation='relu')(cnn_features)\n",
        "        cnn_output = layers.Dense(2, activation='softmax')(cnn_features)\n",
        "\n",
        "        cnn_model = keras.Model(inputs=cnn_input, outputs=cnn_output)\n",
        "        return cnn_model\n",
        "\n",
        "    def vtnet(self, input_shapes: dict):\n",
        "\n",
        "        rnn = self.rnn(input_shapes['rnn'])\n",
        "        rnn_input, rnn_features = rnn.input, rnn.layers[-2].output\n",
        "        \n",
        "        cnn = self.cnn(input_shapes['cnn'])\n",
        "        cnn_input, cnn_features = cnn.input, cnn.layers[-2].output\n",
        "        \n",
        "        concatenated_features = layers.concatenate([rnn_features, cnn_features])\n",
        "        logits = layers.Dense(20)(concatenated_features)\n",
        "        vtnet_output = layers.Dense(2, activation='softmax')(logits)\n",
        "        \n",
        "        vtnet_model = keras.Model(inputs=[rnn_input, cnn_input], outputs=vtnet_output)\n",
        "        return vtnet_model\n"
      ],
      "execution_count": null,
      "outputs": []
    },
    {
      "cell_type": "code",
      "metadata": {
        "id": "_MvAG90bqx_H"
      },
      "source": [
        "\"\"\" model hyper-parameters \"\"\"\n",
        "NUM_TIMESTEPS, NUM_FEATURES = (200, 5)\n",
        "IMAGE_H, IMAGE_W, IMAGE_C = (150, 150, 3)"
      ],
      "execution_count": null,
      "outputs": []
    },
    {
      "cell_type": "code",
      "metadata": {
        "colab": {
          "base_uri": "https://localhost:8080/",
          "height": 976
        },
        "id": "mY-kLyghe0JR",
        "outputId": "79fcb380-0f27-48b3-89a0-48a5a599bf32"
      },
      "source": [
        "def create_model(model_name: str):\n",
        "    models = {\n",
        "        'rnn': Models().rnn((NUM_TIMESTEPS, NUM_FEATURES)),\n",
        "        'cnn': Models().cnn((IMAGE_H, IMAGE_W, IMAGE_C)),\n",
        "        'vtnet': Models().vtnet({'rnn': (NUM_TIMESTEPS, NUM_FEATURES), 'cnn': (IMAGE_H, IMAGE_W, IMAGE_C)})\n",
        "    }\n",
        "      \n",
        "    model = models[model_name]\n",
        "\n",
        "    model.compile(\n",
        "        loss=tf.keras.losses.CategoricalCrossentropy(),  \n",
        "        #'binary_crossentropy', tf.keras.losses.CategoricalCrossentropy(), tfa.losses.SigmoidFocalCrossEntropy()\n",
        "        optimizer=tf.keras.optimizers.Adam(learning_rate=1e-6, decay=1e-5),\n",
        "\n",
        "        metrics=[\n",
        "          'accuracy', \n",
        "          tf.metrics.Recall(class_id=0, name='recall_0'), \n",
        "          tf.metrics.Recall(class_id=1, name='recall_1'),\n",
        "          tf.keras.metrics.AUC(name='AUC')\n",
        "          ]\n",
        "    )\n",
        "    return model\n",
        "\n",
        "model = create_model(model_name='vtnet')\n",
        "\n",
        "# callbacks:\n",
        "name = f'log_{int(time.time())}'\n",
        "tensorboard = tf.compat.v1.keras.callbacks.TensorBoard(log_dir=f'logs/{name}')\n",
        "csv_logger = tf.keras.callbacks.CSVLogger('training.log')\n",
        "earlystopping = tf.keras.callbacks.EarlyStopping(monitor='val_AUC', patience=5)\n",
        "callbacks = [tensorboard, earlystopping]\n",
        "\n",
        "tf.keras.utils.plot_model(model, show_shapes=True, expand_nested=True)"
      ],
      "execution_count": null,
      "outputs": [
        {
          "output_type": "execute_result",
          "data": {
            "image/png": "[encoded data removed]",
            "text/plain": [
              "<IPython.core.display.Image object>"
            ]
          },
          "metadata": {
            "tags": []
          },
          "execution_count": 6
        }
      ]
    },
    {
      "cell_type": "markdown",
      "metadata": {
        "id": "baY-bi9xA-xr"
      },
      "source": [
        "# Data Handling"
      ]
    },
    {
      "cell_type": "code",
      "metadata": {
        "id": "Wahn27Yn739I"
      },
      "source": [
        "TARGET = ['Meara', 'BarChartLit'][0]\n",
        "SEC = 1\n",
        "EXPERIMENT_NAME = f'{TARGET}_({SEC})'\n",
        "timestamp = time.strftime(\"%Y%m%d-%H%M%S\")\n",
        "\n",
        "# paths:\n",
        "PATH_TO_MODALITIES = os.path.join('Data', f'{TARGET} ({SEC} sec)')\n",
        "PATH_TO_SEQS = os.path.join('Data', f'{TARGET} ({SEC} sec)', 'sequences')\n",
        "PATH_TO_SCANPATHS = os.path.join('Data', f'{TARGET} ({SEC} sec)', 'scanpaths')\n",
        "\n",
        "PATH_TO_OUTPUTS = 'Results'\n",
        "PATH_TO_EXPERIMENT = os.path.join(PATH_TO_OUTPUTS, f'{EXPERIMENT_NAME}_{timestamp}')\n",
        "PATH_TO_EVALUATION_RESULTS = os.path.join(PATH_TO_EXPERIMENT, 'Evaluation')\n",
        "PATH_TO_FOLD_SPLITS = os.path.join(PATH_TO_EXPERIMENT, 'Splits')"
      ],
      "execution_count": null,
      "outputs": []
    },
    {
      "cell_type": "code",
      "metadata": {
        "id": "Odpb77Po7_42",
        "colab": {
          "base_uri": "https://localhost:8080/"
        },
        "outputId": "24310944-0774-4944-8ccd-f04b24e9246c"
      },
      "source": [
        "\"\"\" GITHUB DATA RETRIEVAL EXECUTABLE \"\"\"\n",
        "\n",
        "# shutil.rmtree('Data')\n",
        "\n",
        "if not os.path.exists(f'Data/{TARGET} ({SEC} sec)'):\n",
        "    url = f'https://github.com/Alireza-Iranpour/MSNV_DL/raw/main/Data/{TARGET}%20({SEC}%20sec).zip'\n",
        "    r = requests.get(url, allow_redirects=True)\n",
        "    open('Data.zip', 'wb').write(r.content)\n",
        "    zip_ref = zipfile.ZipFile('Data.zip', 'r')\n",
        "\n",
        "    if not os.path.exists('Data'):\n",
        "        os.mkdir('Data')\n",
        "\n",
        "    zip_ref.extractall('Data')\n",
        "    zip_ref.close()\n",
        "    print(f'Data/{TARGET} ({SEC} sec) was successfully added!')"
      ],
      "execution_count": null,
      "outputs": [
        {
          "output_type": "stream",
          "text": [
            "Data/Meara (1 sec) was successfully added!\n"
          ],
          "name": "stdout"
        }
      ]
    },
    {
      "cell_type": "code",
      "metadata": {
        "id": "pHhw0Fb30M_H"
      },
      "source": [
        "try: \n",
        "    zip_ref = zipfile.ZipFile(f'{TARGET} ({SEC} sec).zip', 'r')\n",
        "\n",
        "    if not os.path.exists('Data'):\n",
        "        os.mkdir('Data')\n",
        "\n",
        "    zip_ref.extractall('Data')\n",
        "    zip_ref.close()\n",
        "except:\n",
        "    pass"
      ],
      "execution_count": null,
      "outputs": []
    },
    {
      "cell_type": "code",
      "metadata": {
        "id": "B1dYaOHMAvs0"
      },
      "source": [
        "\"\"\" generate scanpaths of all sequences \"\"\"\n",
        "if False:\n",
        "    generate_scanpaths_from_sequences(PATH_TO_SEQS, x_col='r_GazePointX (ADCSpx)', y_col='r_GazePointY (ADCSpx)')"
      ],
      "execution_count": null,
      "outputs": []
    },
    {
      "cell_type": "markdown",
      "metadata": {
        "id": "uI4SDfLrgXKb"
      },
      "source": [
        "# Show fold splits"
      ]
    },
    {
      "cell_type": "code",
      "metadata": {
        "id": "ATDvVAa4fnwr"
      },
      "source": [
        "\"\"\" Print fold data for a given seed (each item represents a group of data points) \"\"\"\n",
        "\n",
        "SHOW = False\n",
        "SEED = 0\n",
        "K = 10\n",
        "\n",
        "pp = pprint.PrettyPrinter(compact=True)\n",
        "\n",
        "splitter = Splitter(PATH_TO_MODALITIES, K)\n",
        "splitter.split(SEED)\n",
        "\n",
        "if SHOW:\n",
        "    split_info = splitter.get_split_info()\n",
        "    for fold in range(K):\n",
        "        print(colored(f'fold {fold}: ', 'blue'))\n",
        "        pp.pprint(split_info[fold])\n",
        "        print('\\n')"
      ],
      "execution_count": null,
      "outputs": []
    },
    {
      "cell_type": "markdown",
      "metadata": {
        "id": "-3gXGDEbfAEZ"
      },
      "source": [
        "# Repeated Cross Validation"
      ]
    },
    {
      "cell_type": "code",
      "metadata": {
        "id": "L3LYunT4lFhd"
      },
      "source": [
        "MAX_SEQ_LEN = NUM_TIMESTEPS\n",
        "\n",
        "K = 10\n",
        "START_SEED = 0\n",
        "NUM_REPETITIONS = 1\n",
        "NUM_EPOCHS = 50\n",
        "BATCH_SIZE = 50"
      ],
      "execution_count": null,
      "outputs": []
    },
    {
      "cell_type": "code",
      "metadata": {
        "colab": {
          "base_uri": "https://localhost:8080/",
          "height": 603
        },
        "id": "H4QMMUt5e-9q",
        "outputId": "3490c125-f63c-4401-b5fc-c940df76146a"
      },
      "source": [
        "num_reps = NUM_REPETITIONS\n",
        "num_folds = K\n",
        "# shutil.rmtree('logs')\n",
        "\n",
        "splitter = Splitter(PATH_TO_MODALITIES, K)\n",
        "\n",
        "rcv_results = {'train': [], 'valid': [], 'test': []}\n",
        "\n",
        "for rep in range(START_SEED, num_reps):\n",
        "\n",
        "    print(f'\\n################# (repetition {rep+1}/{num_reps}) #################')\n",
        "\n",
        "    # Split based on the seed of the repetition before performing CV\n",
        "    splitter.split(seed=rep)\n",
        "    splitter.save_split_to_file(PATH_TO_FOLD_SPLITS)\n",
        "\n",
        "    cv_results = {'train': [], 'valid': [], 'test': []}\n",
        "\n",
        "    for fold in range(num_folds):\n",
        "\n",
        "        fold_datasets = splitter.load_splited_datasets(fold, modalities=['sequence', 'image'], max_seq_length=MAX_SEQ_LEN, image_shape=(IMAGE_H, IMAGE_W))\n",
        "\n",
        "        print(f'\\n------------- Training: (fold {fold+1}/{num_folds}) -------------\\n')\n",
        "        train_dataset, valid_dataset, test_dataset = fold_datasets['train'], fold_datasets['valid'], fold_datasets['test']\n",
        "\n",
        "        # train_dataset.shuffle(buffer_size=100).batch(BATCH_SIZE)\n",
        "        # valid_dataset.shuffle(buffer_size=100).batch(BATCH_SIZE)\n",
        "\n",
        "        # x = train_dataset.map(lambda x, y: x)\n",
        "        # y = train_dataset.map(lambda x, y: y)\n",
        "\n",
        "\n",
        "        model = create_model(model_name='rnn')\n",
        "\n",
        "        train_results = model.fit(train_dataset['x'], tf.one_hot(train_dataset['y'], 2),\n",
        "                                  validation_data=(valid_dataset['x'], tf.one_hot(valid_dataset['y'], 2)), \n",
        "                                  epochs=NUM_EPOCHS,\n",
        "                                  batch_size=BATCH_SIZE,\n",
        "                                  verbose=1, \n",
        "                                  callbacks=callbacks)\n",
        "\n",
        "        print(f'\\n------------- Evaluation: (fold {fold+1}/{num_folds}) -------------\\n')\n",
        "        train_results = model.evaluate(train_dataset['x'], tf.one_hot(train_dataset['y'], 2))\n",
        "        valid_results = model.evaluate(valid_dataset['x'], tf.one_hot(valid_dataset['y'], 2))\n",
        "        test_results  = model.evaluate(test_dataset['x'], tf.one_hot(test_dataset['y'], 2))\n",
        "\n",
        "        train_metrics = dict(zip(model.metrics_names, train_results))\n",
        "        valid_metrics = dict(zip(model.metrics_names, valid_results))\n",
        "        test_metrics  = dict(zip(model.metrics_names, test_results))\n",
        "\n",
        "        cv_results['train'].append(train_metrics)\n",
        "        cv_results['valid'].append(valid_metrics)\n",
        "        cv_results['test'].append(test_metrics)\n",
        "\n",
        "        print('\\nfold validation:\\n')\n",
        "        print_metrics(valid_metrics)\n",
        "        print('\\nfold test:\\n') \n",
        "        print_metrics(test_metrics)\n",
        "\n",
        "    # Average CV metrics across folds for validation and test\n",
        "    cv_train_avg = average_metrics(cv_results['train']) \n",
        "    cv_valid_avg = average_metrics(cv_results['valid']) \n",
        "    cv_test_avg  = average_metrics(cv_results['test'])\n",
        "    save_cv_results(cv_results=cv_results, dest=PATH_TO_EVALUATION_RESULTS, rep=rep)\n",
        "\n",
        "    print(f'\\n*********************(repetition {rep+1}/{num_reps} results)**************************')\n",
        "\n",
        "    print('\\nrepetition validation:\\n')\n",
        "    print_metrics(cv_valid_avg)\n",
        "    print('\\nrepetition test:\\n') \n",
        "    print_metrics(cv_test_avg)\n",
        "\n",
        "    print('\\n***************************************************************************************')\n",
        "\n",
        "    rcv_results['train'].append(cv_train_avg)\n",
        "    rcv_results['valid'].append(cv_valid_avg)\n",
        "    rcv_results['test'].append(cv_test_avg)\n",
        "\n",
        "# Average RCV metrics across repetitions for validation and test\n",
        "rcv_train_avg = average_metrics(rcv_results['train'])\n",
        "rcv_valid_avg = average_metrics(rcv_results['valid'])\n",
        "rcv_test_avg  = average_metrics(rcv_results['test'])\n",
        "save_rcv_results(rcv_results=rcv_results, dest=PATH_TO_EVALUATION_RESULTS)\n",
        "\n",
        "print('\\n***************************************************************************************')\n",
        "print('\\n****************************** Final Evaluation Results *******************************')\n",
        "print('\\n***************************************************************************************')\n",
        "\n",
        "print('\\nfinal validation:\\n')\n",
        "print_metrics(rcv_valid_avg)\n",
        "print('\\nfinal test:\\n') \n",
        "print_metrics(rcv_test_avg)"
      ],
      "execution_count": null,
      "outputs": [
        {
          "output_type": "stream",
          "text": [
            "\n",
            "################# (repetition 1/1) #################\n",
            "\n",
            "------------- Training: (fold 1/10) -------------\n",
            "\n",
            "Epoch 1/50\n"
          ],
          "name": "stdout"
        },
        {
          "output_type": "stream",
          "text": [
            "/usr/local/lib/python3.6/dist-packages/tensorflow/python/keras/engine/functional.py:595: UserWarning: Input dict contained keys ['cnn'] which did not match any model input. They will be ignored by the model.\n",
            "  [n for n in tensors.keys() if n not in ref_input_names])\n"
          ],
          "name": "stderr"
        },
        {
          "output_type": "stream",
          "text": [
            "47/47 [==============================] - 20s 365ms/step - loss: 0.9311 - accuracy: 0.5010 - recall_0: 0.1826 - recall_1: 0.8321 - AUC: 0.4826 - val_loss: 0.8226 - val_accuracy: 0.5203 - val_recall_0: 0.2222 - val_recall_1: 0.8476 - val_AUC: 0.4743\n",
            "Epoch 2/50\n",
            "17/47 [=========>....................] - ETA: 9s - loss: 0.9112 - accuracy: 0.4941 - recall_0: 0.1747 - recall_1: 0.8539 - AUC: 0.4847 "
          ],
          "name": "stdout"
        },
        {
          "output_type": "error",
          "ename": "KeyboardInterrupt",
          "evalue": "ignored",
          "traceback": [
            "\u001b[0;31m---------------------------------------------------------------------------\u001b[0m",
            "\u001b[0;31mKeyboardInterrupt\u001b[0m                         Traceback (most recent call last)",
            "\u001b[0;32m<ipython-input-20-dfff1f00c71b>\u001b[0m in \u001b[0;36m<module>\u001b[0;34m()\u001b[0m\n\u001b[1;32m     38\u001b[0m                                   \u001b[0mbatch_size\u001b[0m\u001b[0;34m=\u001b[0m\u001b[0mBATCH_SIZE\u001b[0m\u001b[0;34m,\u001b[0m\u001b[0;34m\u001b[0m\u001b[0;34m\u001b[0m\u001b[0m\n\u001b[1;32m     39\u001b[0m                                   \u001b[0mverbose\u001b[0m\u001b[0;34m=\u001b[0m\u001b[0;36m1\u001b[0m\u001b[0;34m,\u001b[0m\u001b[0;34m\u001b[0m\u001b[0;34m\u001b[0m\u001b[0m\n\u001b[0;32m---> 40\u001b[0;31m                                   callbacks=callbacks)\n\u001b[0m\u001b[1;32m     41\u001b[0m \u001b[0;34m\u001b[0m\u001b[0m\n\u001b[1;32m     42\u001b[0m         \u001b[0mprint\u001b[0m\u001b[0;34m(\u001b[0m\u001b[0;34mf'\\n------------- Evaluation: (fold {fold+1}/{num_folds}) -------------\\n'\u001b[0m\u001b[0;34m)\u001b[0m\u001b[0;34m\u001b[0m\u001b[0;34m\u001b[0m\u001b[0m\n",
            "\u001b[0;32m/usr/local/lib/python3.6/dist-packages/tensorflow/python/keras/engine/training.py\u001b[0m in \u001b[0;36mfit\u001b[0;34m(self, x, y, batch_size, epochs, verbose, callbacks, validation_split, validation_data, shuffle, class_weight, sample_weight, initial_epoch, steps_per_epoch, validation_steps, validation_batch_size, validation_freq, max_queue_size, workers, use_multiprocessing)\u001b[0m\n\u001b[1;32m   1098\u001b[0m                 _r=1):\n\u001b[1;32m   1099\u001b[0m               \u001b[0mcallbacks\u001b[0m\u001b[0;34m.\u001b[0m\u001b[0mon_train_batch_begin\u001b[0m\u001b[0;34m(\u001b[0m\u001b[0mstep\u001b[0m\u001b[0;34m)\u001b[0m\u001b[0;34m\u001b[0m\u001b[0;34m\u001b[0m\u001b[0m\n\u001b[0;32m-> 1100\u001b[0;31m               \u001b[0mtmp_logs\u001b[0m \u001b[0;34m=\u001b[0m \u001b[0mself\u001b[0m\u001b[0;34m.\u001b[0m\u001b[0mtrain_function\u001b[0m\u001b[0;34m(\u001b[0m\u001b[0miterator\u001b[0m\u001b[0;34m)\u001b[0m\u001b[0;34m\u001b[0m\u001b[0;34m\u001b[0m\u001b[0m\n\u001b[0m\u001b[1;32m   1101\u001b[0m               \u001b[0;32mif\u001b[0m \u001b[0mdata_handler\u001b[0m\u001b[0;34m.\u001b[0m\u001b[0mshould_sync\u001b[0m\u001b[0;34m:\u001b[0m\u001b[0;34m\u001b[0m\u001b[0;34m\u001b[0m\u001b[0m\n\u001b[1;32m   1102\u001b[0m                 \u001b[0mcontext\u001b[0m\u001b[0;34m.\u001b[0m\u001b[0masync_wait\u001b[0m\u001b[0;34m(\u001b[0m\u001b[0;34m)\u001b[0m\u001b[0;34m\u001b[0m\u001b[0;34m\u001b[0m\u001b[0m\n",
            "\u001b[0;32m/usr/local/lib/python3.6/dist-packages/tensorflow/python/eager/def_function.py\u001b[0m in \u001b[0;36m__call__\u001b[0;34m(self, *args, **kwds)\u001b[0m\n\u001b[1;32m    826\u001b[0m     \u001b[0mtracing_count\u001b[0m \u001b[0;34m=\u001b[0m \u001b[0mself\u001b[0m\u001b[0;34m.\u001b[0m\u001b[0mexperimental_get_tracing_count\u001b[0m\u001b[0;34m(\u001b[0m\u001b[0;34m)\u001b[0m\u001b[0;34m\u001b[0m\u001b[0;34m\u001b[0m\u001b[0m\n\u001b[1;32m    827\u001b[0m     \u001b[0;32mwith\u001b[0m \u001b[0mtrace\u001b[0m\u001b[0;34m.\u001b[0m\u001b[0mTrace\u001b[0m\u001b[0;34m(\u001b[0m\u001b[0mself\u001b[0m\u001b[0;34m.\u001b[0m\u001b[0m_name\u001b[0m\u001b[0;34m)\u001b[0m \u001b[0;32mas\u001b[0m \u001b[0mtm\u001b[0m\u001b[0;34m:\u001b[0m\u001b[0;34m\u001b[0m\u001b[0;34m\u001b[0m\u001b[0m\n\u001b[0;32m--> 828\u001b[0;31m       \u001b[0mresult\u001b[0m \u001b[0;34m=\u001b[0m \u001b[0mself\u001b[0m\u001b[0;34m.\u001b[0m\u001b[0m_call\u001b[0m\u001b[0;34m(\u001b[0m\u001b[0;34m*\u001b[0m\u001b[0margs\u001b[0m\u001b[0;34m,\u001b[0m \u001b[0;34m**\u001b[0m\u001b[0mkwds\u001b[0m\u001b[0;34m)\u001b[0m\u001b[0;34m\u001b[0m\u001b[0;34m\u001b[0m\u001b[0m\n\u001b[0m\u001b[1;32m    829\u001b[0m       \u001b[0mcompiler\u001b[0m \u001b[0;34m=\u001b[0m \u001b[0;34m\"xla\"\u001b[0m \u001b[0;32mif\u001b[0m \u001b[0mself\u001b[0m\u001b[0;34m.\u001b[0m\u001b[0m_experimental_compile\u001b[0m \u001b[0;32melse\u001b[0m \u001b[0;34m\"nonXla\"\u001b[0m\u001b[0;34m\u001b[0m\u001b[0;34m\u001b[0m\u001b[0m\n\u001b[1;32m    830\u001b[0m       \u001b[0mnew_tracing_count\u001b[0m \u001b[0;34m=\u001b[0m \u001b[0mself\u001b[0m\u001b[0;34m.\u001b[0m\u001b[0mexperimental_get_tracing_count\u001b[0m\u001b[0;34m(\u001b[0m\u001b[0;34m)\u001b[0m\u001b[0;34m\u001b[0m\u001b[0;34m\u001b[0m\u001b[0m\n",
            "\u001b[0;32m/usr/local/lib/python3.6/dist-packages/tensorflow/python/eager/def_function.py\u001b[0m in \u001b[0;36m_call\u001b[0;34m(self, *args, **kwds)\u001b[0m\n\u001b[1;32m    853\u001b[0m       \u001b[0;31m# In this case we have created variables on the first call, so we run the\u001b[0m\u001b[0;34m\u001b[0m\u001b[0;34m\u001b[0m\u001b[0;34m\u001b[0m\u001b[0m\n\u001b[1;32m    854\u001b[0m       \u001b[0;31m# defunned version which is guaranteed to never create variables.\u001b[0m\u001b[0;34m\u001b[0m\u001b[0;34m\u001b[0m\u001b[0;34m\u001b[0m\u001b[0m\n\u001b[0;32m--> 855\u001b[0;31m       \u001b[0;32mreturn\u001b[0m \u001b[0mself\u001b[0m\u001b[0;34m.\u001b[0m\u001b[0m_stateless_fn\u001b[0m\u001b[0;34m(\u001b[0m\u001b[0;34m*\u001b[0m\u001b[0margs\u001b[0m\u001b[0;34m,\u001b[0m \u001b[0;34m**\u001b[0m\u001b[0mkwds\u001b[0m\u001b[0;34m)\u001b[0m  \u001b[0;31m# pylint: disable=not-callable\u001b[0m\u001b[0;34m\u001b[0m\u001b[0;34m\u001b[0m\u001b[0m\n\u001b[0m\u001b[1;32m    856\u001b[0m     \u001b[0;32melif\u001b[0m \u001b[0mself\u001b[0m\u001b[0;34m.\u001b[0m\u001b[0m_stateful_fn\u001b[0m \u001b[0;32mis\u001b[0m \u001b[0;32mnot\u001b[0m \u001b[0;32mNone\u001b[0m\u001b[0;34m:\u001b[0m\u001b[0;34m\u001b[0m\u001b[0;34m\u001b[0m\u001b[0m\n\u001b[1;32m    857\u001b[0m       \u001b[0;31m# Release the lock early so that multiple threads can perform the call\u001b[0m\u001b[0;34m\u001b[0m\u001b[0;34m\u001b[0m\u001b[0;34m\u001b[0m\u001b[0m\n",
            "\u001b[0;32m/usr/local/lib/python3.6/dist-packages/tensorflow/python/eager/function.py\u001b[0m in \u001b[0;36m__call__\u001b[0;34m(self, *args, **kwargs)\u001b[0m\n\u001b[1;32m   2941\u001b[0m        filtered_flat_args) = self._maybe_define_function(args, kwargs)\n\u001b[1;32m   2942\u001b[0m     return graph_function._call_flat(\n\u001b[0;32m-> 2943\u001b[0;31m         filtered_flat_args, captured_inputs=graph_function.captured_inputs)  # pylint: disable=protected-access\n\u001b[0m\u001b[1;32m   2944\u001b[0m \u001b[0;34m\u001b[0m\u001b[0m\n\u001b[1;32m   2945\u001b[0m   \u001b[0;34m@\u001b[0m\u001b[0mproperty\u001b[0m\u001b[0;34m\u001b[0m\u001b[0;34m\u001b[0m\u001b[0m\n",
            "\u001b[0;32m/usr/local/lib/python3.6/dist-packages/tensorflow/python/eager/function.py\u001b[0m in \u001b[0;36m_call_flat\u001b[0;34m(self, args, captured_inputs, cancellation_manager)\u001b[0m\n\u001b[1;32m   1917\u001b[0m       \u001b[0;31m# No tape is watching; skip to running the function.\u001b[0m\u001b[0;34m\u001b[0m\u001b[0;34m\u001b[0m\u001b[0;34m\u001b[0m\u001b[0m\n\u001b[1;32m   1918\u001b[0m       return self._build_call_outputs(self._inference_function.call(\n\u001b[0;32m-> 1919\u001b[0;31m           ctx, args, cancellation_manager=cancellation_manager))\n\u001b[0m\u001b[1;32m   1920\u001b[0m     forward_backward = self._select_forward_and_backward_functions(\n\u001b[1;32m   1921\u001b[0m         \u001b[0margs\u001b[0m\u001b[0;34m,\u001b[0m\u001b[0;34m\u001b[0m\u001b[0;34m\u001b[0m\u001b[0m\n",
            "\u001b[0;32m/usr/local/lib/python3.6/dist-packages/tensorflow/python/eager/function.py\u001b[0m in \u001b[0;36mcall\u001b[0;34m(self, ctx, args, cancellation_manager)\u001b[0m\n\u001b[1;32m    558\u001b[0m               \u001b[0minputs\u001b[0m\u001b[0;34m=\u001b[0m\u001b[0margs\u001b[0m\u001b[0;34m,\u001b[0m\u001b[0;34m\u001b[0m\u001b[0;34m\u001b[0m\u001b[0m\n\u001b[1;32m    559\u001b[0m               \u001b[0mattrs\u001b[0m\u001b[0;34m=\u001b[0m\u001b[0mattrs\u001b[0m\u001b[0;34m,\u001b[0m\u001b[0;34m\u001b[0m\u001b[0;34m\u001b[0m\u001b[0m\n\u001b[0;32m--> 560\u001b[0;31m               ctx=ctx)\n\u001b[0m\u001b[1;32m    561\u001b[0m         \u001b[0;32melse\u001b[0m\u001b[0;34m:\u001b[0m\u001b[0;34m\u001b[0m\u001b[0;34m\u001b[0m\u001b[0m\n\u001b[1;32m    562\u001b[0m           outputs = execute.execute_with_cancellation(\n",
            "\u001b[0;32m/usr/local/lib/python3.6/dist-packages/tensorflow/python/eager/execute.py\u001b[0m in \u001b[0;36mquick_execute\u001b[0;34m(op_name, num_outputs, inputs, attrs, ctx, name)\u001b[0m\n\u001b[1;32m     58\u001b[0m     \u001b[0mctx\u001b[0m\u001b[0;34m.\u001b[0m\u001b[0mensure_initialized\u001b[0m\u001b[0;34m(\u001b[0m\u001b[0;34m)\u001b[0m\u001b[0;34m\u001b[0m\u001b[0;34m\u001b[0m\u001b[0m\n\u001b[1;32m     59\u001b[0m     tensors = pywrap_tfe.TFE_Py_Execute(ctx._handle, device_name, op_name,\n\u001b[0;32m---> 60\u001b[0;31m                                         inputs, attrs, num_outputs)\n\u001b[0m\u001b[1;32m     61\u001b[0m   \u001b[0;32mexcept\u001b[0m \u001b[0mcore\u001b[0m\u001b[0;34m.\u001b[0m\u001b[0m_NotOkStatusException\u001b[0m \u001b[0;32mas\u001b[0m \u001b[0me\u001b[0m\u001b[0;34m:\u001b[0m\u001b[0;34m\u001b[0m\u001b[0;34m\u001b[0m\u001b[0m\n\u001b[1;32m     62\u001b[0m     \u001b[0;32mif\u001b[0m \u001b[0mname\u001b[0m \u001b[0;32mis\u001b[0m \u001b[0;32mnot\u001b[0m \u001b[0;32mNone\u001b[0m\u001b[0;34m:\u001b[0m\u001b[0;34m\u001b[0m\u001b[0;34m\u001b[0m\u001b[0m\n",
            "\u001b[0;31mKeyboardInterrupt\u001b[0m: "
          ]
        }
      ]
    },
    {
      "cell_type": "markdown",
      "metadata": {
        "id": "7XcUVmtAsBCX"
      },
      "source": [
        "# Experiments"
      ]
    },
    {
      "cell_type": "code",
      "metadata": {
        "id": "PWtEIeFPG1Cs"
      },
      "source": [
        "roc_threshold = 0.5\n",
        "valid_y_scores = model.predict(valid_dataset['x'])\n",
        "# valid_y_true, valid_y_pred = valid_dataset['y'], np.array(valid_y_scores >= roc_threshold, dtype=np.int).flatten()  # binary\n",
        "valid_y_true, valid_y_pred = valid_dataset['y'], np.array(tf.argmax(valid_y_scores, 1)).flatten() # multiclass\n",
        "\n",
        "test_y_scores = model.predict(test_dataset['x'])\n",
        "# test_y_true, test_y_pred = test_dataset['y'], np.array(test_y_scores >= roc_threshold, dtype=np.int).flatten()  # binary\n",
        "test_y_true, test_y_pred = test_dataset['y'], np.array(tf.argmax(test_y_scores, 1)).flatten() # multiclass\n",
        "\n",
        "val_metrics = compute_metrics(valid_y_true, valid_y_pred, valid_y_scores.max(axis=1)) # for binary remove .max()\n",
        "test_metrics = compute_metrics(test_y_true, test_y_pred, test_y_scores.max(axis=1))   # for binary remove .max()\n",
        "\n",
        "# print('\\nvalidation:\\n')\n",
        "# pprint_metrics(val_metrics)\n",
        "# print('\\ntest:\\n') \n",
        "# pprint_metrics(test_metrics)"
      ],
      "execution_count": null,
      "outputs": []
    },
    {
      "cell_type": "code",
      "metadata": {
        "id": "l93KnbudJYNg"
      },
      "source": [
        "splitter = Splitter(PATH_TO_MODALITIES, K)\n",
        "splitter.split(seed=1)\n",
        "fold_datasets = splitter.load_splited_datasets(1, modalities=['sequence'], max_seq_length=MAX_SEQ_LEN, image_shape=(150, 150))\n",
        "train_dataset, valid_dataset, test_dataset = fold_datasets['train'], fold_datasets['valid'], fold_datasets['test']"
      ],
      "execution_count": null,
      "outputs": []
    },
    {
      "cell_type": "code",
      "metadata": {
        "id": "mG5DVarpd3-r",
        "colab": {
          "base_uri": "https://localhost:8080/"
        },
        "outputId": "0ec97752-24eb-450d-afe4-5ca9f2c9896d"
      },
      "source": [
        "# print(train_dataset['x']['rnn'].shape)\n",
        "# print(train_dataset['y'])\n",
        "\n",
        "#x = train_dataset[0]\n",
        "#y = train_dataset[1]\n",
        "# d = d.batch(2)\n",
        "for element in train_dataset:\n",
        "  #print(element)\n",
        "  break"
      ],
      "execution_count": null,
      "outputs": [
        {
          "output_type": "execute_result",
          "data": {
            "text/plain": [
              "<MapDataset shapes: <unknown>, types: tf.float32>"
            ]
          },
          "metadata": {
            "tags": []
          },
          "execution_count": 189
        }
      ]
    },
    {
      "cell_type": "code",
      "metadata": {
        "colab": {
          "base_uri": "https://localhost:8080/",
          "height": 185
        },
        "id": "-No0OmpcsYJa",
        "outputId": "d1c0476c-3523-49ef-f686-9645044ac498"
      },
      "source": [
        "# image processing snippet:\n",
        "\n",
        "path = '/content/Data/Meara (1 sec)/scanpaths/0_low/L1-11-1.png'\n",
        "im = PIL.Image.open(path).convert('RGB')\n",
        "# image = im.resize((150, 150), Image.ANTIALIAS)\n",
        "# image = ImageOps.grayscale(image)\n",
        "print(np.expand_dims(np.array(image), axis=-1).shape)\n",
        "image"
      ],
      "execution_count": null,
      "outputs": [
        {
          "output_type": "stream",
          "text": [
            "(150, 150, 3, 1)\n"
          ],
          "name": "stdout"
        },
        {
          "output_type": "execute_result",
          "data": {
            "image/png": "[encoded data removed]",
            "text/plain": [
              "<PIL.Image.Image image mode=RGB size=150x150 at 0x7F2223E6D588>"
            ]
          },
          "metadata": {
            "tags": []
          },
          "execution_count": 187
        }
      ]
    },
    {
      "cell_type": "code",
      "metadata": {
        "id": "0sTmiqHSyicm"
      },
      "source": [
        "filenames= ['/content/Data/Meara (1 sec)/sequences/0_low/L1-11-1.csv', '/content/Data/Meara (1 sec)/sequences/0_low/L1-11-2.csv']\n",
        "d = tf.data.Dataset.from_tensor_slices(['hello', 'world'])\n",
        "# transform a string tensor to upper case string using a Python function\n",
        "def upper_case_fn(t: tf.Tensor):\n",
        "  return t.numpy().decode('utf-8').upper()\n",
        "d = d.map(lambda x: tf.py_function(func=upper_case_fn,\n",
        "          inp=[x], Tout=tf.string))\n",
        "\n",
        "dataset = dataset.map(lambda x: x + 1,\n",
        "    num_parallel_calls=tf.data.AUTOTUNE,\n",
        "    deterministic=False)"
      ],
      "execution_count": null,
      "outputs": []
    },
    {
      "cell_type": "code",
      "metadata": {
        "colab": {
          "base_uri": "https://localhost:8080/",
          "height": 868
        },
        "id": "P4zS-QMyzrs-",
        "outputId": "d44c6792-e419-44d6-860a-0be13791e6c2"
      },
      "source": [
        "filenames= ['/content/Data/Meara (1 sec)/sequences/0_low/L1-11-1.csv', \n",
        "            '/content/Data/Meara (1 sec)/sequences/0_low/L1-11-2.csv',\n",
        "            '/content/Data/Meara (1 sec)/sequences/0_low/L1-11-2.csv',\n",
        "            '/content/Data/Meara (1 sec)/sequences/0_low/L1-11-2.csv',\n",
        "            '/content/Data/Meara (1 sec)/sequences/0_low/L1-11-2.csv',\n",
        "            '/content/Data/Meara (1 sec)/sequences/0_low/L1-11-2.csv', \n",
        "            '/content/Data/Meara (1 sec)/sequences/0_low/L1-11-3.csv']\n",
        "\n",
        "labels = [1, 1, 1, 1, 0, 0, 0]\n",
        "\n",
        "d = tf.data.Dataset.from_tensor_slices(filenames)\n",
        "y = tf.data.Dataset.from_tensor_slices(labels)\n",
        "\n",
        "def process_paths(t: tf.Tensor):\n",
        "  path = t.numpy().decode('utf-8')\n",
        "  sequence = pd.read_csv(path).values\n",
        "  sequence = tf.expand_dims(sequence, axis=0)\n",
        "  sequence = tf.keras.preprocessing.sequence.pad_sequences(\n",
        "      sequence, maxlen=50, dtype='float32', \n",
        "      padding='pre', truncating='pre', value=0)\n",
        "  sequence = tf.squeeze(sequence, axis=0)\n",
        "  return sequence\n",
        "\n",
        "d = d.map(lambda x: tf.py_function(func=process_paths, inp=[x], Tout=tf.float32))\n",
        "dataset = tf.data.Dataset.zip((d, y))\n",
        "# d = d.batch(3).prefetch(2)\n",
        "\n",
        "\n",
        "model = tf.keras.Sequential([\n",
        "  tf.keras.layers.Flatten(),\n",
        "  tf.keras.layers.Dense(1)\n",
        "])\n",
        "\n",
        "model.compile(optimizer='adam',\n",
        "              loss=tf.keras.losses.SparseCategoricalCrossentropy(from_logits=True), \n",
        "              metrics=['accuracy'])\n",
        "model.fit(dataset, epochs=1)\n",
        "\n",
        "for z in dataset:\n",
        "  print(z)\n",
        "  break"
      ],
      "execution_count": null,
      "outputs": [
        {
          "output_type": "error",
          "ename": "ValueError",
          "evalue": "ignored",
          "traceback": [
            "\u001b[0;31m---------------------------------------------------------------------------\u001b[0m",
            "\u001b[0;31mValueError\u001b[0m                                Traceback (most recent call last)",
            "\u001b[0;32m<ipython-input-3-3a6087ef5c7f>\u001b[0m in \u001b[0;36m<module>\u001b[0;34m()\u001b[0m\n\u001b[1;32m     35\u001b[0m               \u001b[0mloss\u001b[0m\u001b[0;34m=\u001b[0m\u001b[0mtf\u001b[0m\u001b[0;34m.\u001b[0m\u001b[0mkeras\u001b[0m\u001b[0;34m.\u001b[0m\u001b[0mlosses\u001b[0m\u001b[0;34m.\u001b[0m\u001b[0mSparseCategoricalCrossentropy\u001b[0m\u001b[0;34m(\u001b[0m\u001b[0mfrom_logits\u001b[0m\u001b[0;34m=\u001b[0m\u001b[0;32mTrue\u001b[0m\u001b[0;34m)\u001b[0m\u001b[0;34m,\u001b[0m\u001b[0;34m\u001b[0m\u001b[0;34m\u001b[0m\u001b[0m\n\u001b[1;32m     36\u001b[0m               metrics=['accuracy'])\n\u001b[0;32m---> 37\u001b[0;31m \u001b[0mmodel\u001b[0m\u001b[0;34m.\u001b[0m\u001b[0mfit\u001b[0m\u001b[0;34m(\u001b[0m\u001b[0mdataset\u001b[0m\u001b[0;34m,\u001b[0m \u001b[0mepochs\u001b[0m\u001b[0;34m=\u001b[0m\u001b[0;36m1\u001b[0m\u001b[0;34m)\u001b[0m\u001b[0;34m\u001b[0m\u001b[0;34m\u001b[0m\u001b[0m\n\u001b[0m\u001b[1;32m     38\u001b[0m \u001b[0;34m\u001b[0m\u001b[0m\n\u001b[1;32m     39\u001b[0m \u001b[0;32mfor\u001b[0m \u001b[0mz\u001b[0m \u001b[0;32min\u001b[0m \u001b[0mdataset\u001b[0m\u001b[0;34m:\u001b[0m\u001b[0;34m\u001b[0m\u001b[0;34m\u001b[0m\u001b[0m\n",
            "\u001b[0;32m/usr/local/lib/python3.6/dist-packages/tensorflow/python/keras/engine/training.py\u001b[0m in \u001b[0;36mfit\u001b[0;34m(self, x, y, batch_size, epochs, verbose, callbacks, validation_split, validation_data, shuffle, class_weight, sample_weight, initial_epoch, steps_per_epoch, validation_steps, validation_batch_size, validation_freq, max_queue_size, workers, use_multiprocessing)\u001b[0m\n\u001b[1;32m   1098\u001b[0m                 _r=1):\n\u001b[1;32m   1099\u001b[0m               \u001b[0mcallbacks\u001b[0m\u001b[0;34m.\u001b[0m\u001b[0mon_train_batch_begin\u001b[0m\u001b[0;34m(\u001b[0m\u001b[0mstep\u001b[0m\u001b[0;34m)\u001b[0m\u001b[0;34m\u001b[0m\u001b[0;34m\u001b[0m\u001b[0m\n\u001b[0;32m-> 1100\u001b[0;31m               \u001b[0mtmp_logs\u001b[0m \u001b[0;34m=\u001b[0m \u001b[0mself\u001b[0m\u001b[0;34m.\u001b[0m\u001b[0mtrain_function\u001b[0m\u001b[0;34m(\u001b[0m\u001b[0miterator\u001b[0m\u001b[0;34m)\u001b[0m\u001b[0;34m\u001b[0m\u001b[0;34m\u001b[0m\u001b[0m\n\u001b[0m\u001b[1;32m   1101\u001b[0m               \u001b[0;32mif\u001b[0m \u001b[0mdata_handler\u001b[0m\u001b[0;34m.\u001b[0m\u001b[0mshould_sync\u001b[0m\u001b[0;34m:\u001b[0m\u001b[0;34m\u001b[0m\u001b[0;34m\u001b[0m\u001b[0m\n\u001b[1;32m   1102\u001b[0m                 \u001b[0mcontext\u001b[0m\u001b[0;34m.\u001b[0m\u001b[0masync_wait\u001b[0m\u001b[0;34m(\u001b[0m\u001b[0;34m)\u001b[0m\u001b[0;34m\u001b[0m\u001b[0;34m\u001b[0m\u001b[0m\n",
            "\u001b[0;32m/usr/local/lib/python3.6/dist-packages/tensorflow/python/eager/def_function.py\u001b[0m in \u001b[0;36m__call__\u001b[0;34m(self, *args, **kwds)\u001b[0m\n\u001b[1;32m    826\u001b[0m     \u001b[0mtracing_count\u001b[0m \u001b[0;34m=\u001b[0m \u001b[0mself\u001b[0m\u001b[0;34m.\u001b[0m\u001b[0mexperimental_get_tracing_count\u001b[0m\u001b[0;34m(\u001b[0m\u001b[0;34m)\u001b[0m\u001b[0;34m\u001b[0m\u001b[0;34m\u001b[0m\u001b[0m\n\u001b[1;32m    827\u001b[0m     \u001b[0;32mwith\u001b[0m \u001b[0mtrace\u001b[0m\u001b[0;34m.\u001b[0m\u001b[0mTrace\u001b[0m\u001b[0;34m(\u001b[0m\u001b[0mself\u001b[0m\u001b[0;34m.\u001b[0m\u001b[0m_name\u001b[0m\u001b[0;34m)\u001b[0m \u001b[0;32mas\u001b[0m \u001b[0mtm\u001b[0m\u001b[0;34m:\u001b[0m\u001b[0;34m\u001b[0m\u001b[0;34m\u001b[0m\u001b[0m\n\u001b[0;32m--> 828\u001b[0;31m       \u001b[0mresult\u001b[0m \u001b[0;34m=\u001b[0m \u001b[0mself\u001b[0m\u001b[0;34m.\u001b[0m\u001b[0m_call\u001b[0m\u001b[0;34m(\u001b[0m\u001b[0;34m*\u001b[0m\u001b[0margs\u001b[0m\u001b[0;34m,\u001b[0m \u001b[0;34m**\u001b[0m\u001b[0mkwds\u001b[0m\u001b[0;34m)\u001b[0m\u001b[0;34m\u001b[0m\u001b[0;34m\u001b[0m\u001b[0m\n\u001b[0m\u001b[1;32m    829\u001b[0m       \u001b[0mcompiler\u001b[0m \u001b[0;34m=\u001b[0m \u001b[0;34m\"xla\"\u001b[0m \u001b[0;32mif\u001b[0m \u001b[0mself\u001b[0m\u001b[0;34m.\u001b[0m\u001b[0m_experimental_compile\u001b[0m \u001b[0;32melse\u001b[0m \u001b[0;34m\"nonXla\"\u001b[0m\u001b[0;34m\u001b[0m\u001b[0;34m\u001b[0m\u001b[0m\n\u001b[1;32m    830\u001b[0m       \u001b[0mnew_tracing_count\u001b[0m \u001b[0;34m=\u001b[0m \u001b[0mself\u001b[0m\u001b[0;34m.\u001b[0m\u001b[0mexperimental_get_tracing_count\u001b[0m\u001b[0;34m(\u001b[0m\u001b[0;34m)\u001b[0m\u001b[0;34m\u001b[0m\u001b[0;34m\u001b[0m\u001b[0m\n",
            "\u001b[0;32m/usr/local/lib/python3.6/dist-packages/tensorflow/python/eager/def_function.py\u001b[0m in \u001b[0;36m_call\u001b[0;34m(self, *args, **kwds)\u001b[0m\n\u001b[1;32m    869\u001b[0m       \u001b[0;31m# This is the first call of __call__, so we have to initialize.\u001b[0m\u001b[0;34m\u001b[0m\u001b[0;34m\u001b[0m\u001b[0;34m\u001b[0m\u001b[0m\n\u001b[1;32m    870\u001b[0m       \u001b[0minitializers\u001b[0m \u001b[0;34m=\u001b[0m \u001b[0;34m[\u001b[0m\u001b[0;34m]\u001b[0m\u001b[0;34m\u001b[0m\u001b[0;34m\u001b[0m\u001b[0m\n\u001b[0;32m--> 871\u001b[0;31m       \u001b[0mself\u001b[0m\u001b[0;34m.\u001b[0m\u001b[0m_initialize\u001b[0m\u001b[0;34m(\u001b[0m\u001b[0margs\u001b[0m\u001b[0;34m,\u001b[0m \u001b[0mkwds\u001b[0m\u001b[0;34m,\u001b[0m \u001b[0madd_initializers_to\u001b[0m\u001b[0;34m=\u001b[0m\u001b[0minitializers\u001b[0m\u001b[0;34m)\u001b[0m\u001b[0;34m\u001b[0m\u001b[0;34m\u001b[0m\u001b[0m\n\u001b[0m\u001b[1;32m    872\u001b[0m     \u001b[0;32mfinally\u001b[0m\u001b[0;34m:\u001b[0m\u001b[0;34m\u001b[0m\u001b[0;34m\u001b[0m\u001b[0m\n\u001b[1;32m    873\u001b[0m       \u001b[0;31m# At this point we know that the initialization is complete (or less\u001b[0m\u001b[0;34m\u001b[0m\u001b[0;34m\u001b[0m\u001b[0;34m\u001b[0m\u001b[0m\n",
            "\u001b[0;32m/usr/local/lib/python3.6/dist-packages/tensorflow/python/eager/def_function.py\u001b[0m in \u001b[0;36m_initialize\u001b[0;34m(self, args, kwds, add_initializers_to)\u001b[0m\n\u001b[1;32m    724\u001b[0m     self._concrete_stateful_fn = (\n\u001b[1;32m    725\u001b[0m         self._stateful_fn._get_concrete_function_internal_garbage_collected(  # pylint: disable=protected-access\n\u001b[0;32m--> 726\u001b[0;31m             *args, **kwds))\n\u001b[0m\u001b[1;32m    727\u001b[0m \u001b[0;34m\u001b[0m\u001b[0m\n\u001b[1;32m    728\u001b[0m     \u001b[0;32mdef\u001b[0m \u001b[0minvalid_creator_scope\u001b[0m\u001b[0;34m(\u001b[0m\u001b[0;34m*\u001b[0m\u001b[0munused_args\u001b[0m\u001b[0;34m,\u001b[0m \u001b[0;34m**\u001b[0m\u001b[0munused_kwds\u001b[0m\u001b[0;34m)\u001b[0m\u001b[0;34m:\u001b[0m\u001b[0;34m\u001b[0m\u001b[0;34m\u001b[0m\u001b[0m\n",
            "\u001b[0;32m/usr/local/lib/python3.6/dist-packages/tensorflow/python/eager/function.py\u001b[0m in \u001b[0;36m_get_concrete_function_internal_garbage_collected\u001b[0;34m(self, *args, **kwargs)\u001b[0m\n\u001b[1;32m   2967\u001b[0m       \u001b[0margs\u001b[0m\u001b[0;34m,\u001b[0m \u001b[0mkwargs\u001b[0m \u001b[0;34m=\u001b[0m \u001b[0;32mNone\u001b[0m\u001b[0;34m,\u001b[0m \u001b[0;32mNone\u001b[0m\u001b[0;34m\u001b[0m\u001b[0;34m\u001b[0m\u001b[0m\n\u001b[1;32m   2968\u001b[0m     \u001b[0;32mwith\u001b[0m \u001b[0mself\u001b[0m\u001b[0;34m.\u001b[0m\u001b[0m_lock\u001b[0m\u001b[0;34m:\u001b[0m\u001b[0;34m\u001b[0m\u001b[0;34m\u001b[0m\u001b[0m\n\u001b[0;32m-> 2969\u001b[0;31m       \u001b[0mgraph_function\u001b[0m\u001b[0;34m,\u001b[0m \u001b[0m_\u001b[0m \u001b[0;34m=\u001b[0m \u001b[0mself\u001b[0m\u001b[0;34m.\u001b[0m\u001b[0m_maybe_define_function\u001b[0m\u001b[0;34m(\u001b[0m\u001b[0margs\u001b[0m\u001b[0;34m,\u001b[0m \u001b[0mkwargs\u001b[0m\u001b[0;34m)\u001b[0m\u001b[0;34m\u001b[0m\u001b[0;34m\u001b[0m\u001b[0m\n\u001b[0m\u001b[1;32m   2970\u001b[0m     \u001b[0;32mreturn\u001b[0m \u001b[0mgraph_function\u001b[0m\u001b[0;34m\u001b[0m\u001b[0;34m\u001b[0m\u001b[0m\n\u001b[1;32m   2971\u001b[0m \u001b[0;34m\u001b[0m\u001b[0m\n",
            "\u001b[0;32m/usr/local/lib/python3.6/dist-packages/tensorflow/python/eager/function.py\u001b[0m in \u001b[0;36m_maybe_define_function\u001b[0;34m(self, args, kwargs)\u001b[0m\n\u001b[1;32m   3359\u001b[0m \u001b[0;34m\u001b[0m\u001b[0m\n\u001b[1;32m   3360\u001b[0m           \u001b[0mself\u001b[0m\u001b[0;34m.\u001b[0m\u001b[0m_function_cache\u001b[0m\u001b[0;34m.\u001b[0m\u001b[0mmissed\u001b[0m\u001b[0;34m.\u001b[0m\u001b[0madd\u001b[0m\u001b[0;34m(\u001b[0m\u001b[0mcall_context_key\u001b[0m\u001b[0;34m)\u001b[0m\u001b[0;34m\u001b[0m\u001b[0;34m\u001b[0m\u001b[0m\n\u001b[0;32m-> 3361\u001b[0;31m           \u001b[0mgraph_function\u001b[0m \u001b[0;34m=\u001b[0m \u001b[0mself\u001b[0m\u001b[0;34m.\u001b[0m\u001b[0m_create_graph_function\u001b[0m\u001b[0;34m(\u001b[0m\u001b[0margs\u001b[0m\u001b[0;34m,\u001b[0m \u001b[0mkwargs\u001b[0m\u001b[0;34m)\u001b[0m\u001b[0;34m\u001b[0m\u001b[0;34m\u001b[0m\u001b[0m\n\u001b[0m\u001b[1;32m   3362\u001b[0m           \u001b[0mself\u001b[0m\u001b[0;34m.\u001b[0m\u001b[0m_function_cache\u001b[0m\u001b[0;34m.\u001b[0m\u001b[0mprimary\u001b[0m\u001b[0;34m[\u001b[0m\u001b[0mcache_key\u001b[0m\u001b[0;34m]\u001b[0m \u001b[0;34m=\u001b[0m \u001b[0mgraph_function\u001b[0m\u001b[0;34m\u001b[0m\u001b[0;34m\u001b[0m\u001b[0m\n\u001b[1;32m   3363\u001b[0m \u001b[0;34m\u001b[0m\u001b[0m\n",
            "\u001b[0;32m/usr/local/lib/python3.6/dist-packages/tensorflow/python/eager/function.py\u001b[0m in \u001b[0;36m_create_graph_function\u001b[0;34m(self, args, kwargs, override_flat_arg_shapes)\u001b[0m\n\u001b[1;32m   3204\u001b[0m             \u001b[0marg_names\u001b[0m\u001b[0;34m=\u001b[0m\u001b[0marg_names\u001b[0m\u001b[0;34m,\u001b[0m\u001b[0;34m\u001b[0m\u001b[0;34m\u001b[0m\u001b[0m\n\u001b[1;32m   3205\u001b[0m             \u001b[0moverride_flat_arg_shapes\u001b[0m\u001b[0;34m=\u001b[0m\u001b[0moverride_flat_arg_shapes\u001b[0m\u001b[0;34m,\u001b[0m\u001b[0;34m\u001b[0m\u001b[0;34m\u001b[0m\u001b[0m\n\u001b[0;32m-> 3206\u001b[0;31m             capture_by_value=self._capture_by_value),\n\u001b[0m\u001b[1;32m   3207\u001b[0m         \u001b[0mself\u001b[0m\u001b[0;34m.\u001b[0m\u001b[0m_function_attributes\u001b[0m\u001b[0;34m,\u001b[0m\u001b[0;34m\u001b[0m\u001b[0;34m\u001b[0m\u001b[0m\n\u001b[1;32m   3208\u001b[0m         \u001b[0mfunction_spec\u001b[0m\u001b[0;34m=\u001b[0m\u001b[0mself\u001b[0m\u001b[0;34m.\u001b[0m\u001b[0mfunction_spec\u001b[0m\u001b[0;34m,\u001b[0m\u001b[0;34m\u001b[0m\u001b[0;34m\u001b[0m\u001b[0m\n",
            "\u001b[0;32m/usr/local/lib/python3.6/dist-packages/tensorflow/python/framework/func_graph.py\u001b[0m in \u001b[0;36mfunc_graph_from_py_func\u001b[0;34m(name, python_func, args, kwargs, signature, func_graph, autograph, autograph_options, add_control_dependencies, arg_names, op_return_value, collections, capture_by_value, override_flat_arg_shapes)\u001b[0m\n\u001b[1;32m    988\u001b[0m         \u001b[0m_\u001b[0m\u001b[0;34m,\u001b[0m \u001b[0moriginal_func\u001b[0m \u001b[0;34m=\u001b[0m \u001b[0mtf_decorator\u001b[0m\u001b[0;34m.\u001b[0m\u001b[0munwrap\u001b[0m\u001b[0;34m(\u001b[0m\u001b[0mpython_func\u001b[0m\u001b[0;34m)\u001b[0m\u001b[0;34m\u001b[0m\u001b[0;34m\u001b[0m\u001b[0m\n\u001b[1;32m    989\u001b[0m \u001b[0;34m\u001b[0m\u001b[0m\n\u001b[0;32m--> 990\u001b[0;31m       \u001b[0mfunc_outputs\u001b[0m \u001b[0;34m=\u001b[0m \u001b[0mpython_func\u001b[0m\u001b[0;34m(\u001b[0m\u001b[0;34m*\u001b[0m\u001b[0mfunc_args\u001b[0m\u001b[0;34m,\u001b[0m \u001b[0;34m**\u001b[0m\u001b[0mfunc_kwargs\u001b[0m\u001b[0;34m)\u001b[0m\u001b[0;34m\u001b[0m\u001b[0;34m\u001b[0m\u001b[0m\n\u001b[0m\u001b[1;32m    991\u001b[0m \u001b[0;34m\u001b[0m\u001b[0m\n\u001b[1;32m    992\u001b[0m       \u001b[0;31m# invariant: `func_outputs` contains only Tensors, CompositeTensors,\u001b[0m\u001b[0;34m\u001b[0m\u001b[0;34m\u001b[0m\u001b[0;34m\u001b[0m\u001b[0m\n",
            "\u001b[0;32m/usr/local/lib/python3.6/dist-packages/tensorflow/python/eager/def_function.py\u001b[0m in \u001b[0;36mwrapped_fn\u001b[0;34m(*args, **kwds)\u001b[0m\n\u001b[1;32m    632\u001b[0m             \u001b[0mxla_context\u001b[0m\u001b[0;34m.\u001b[0m\u001b[0mExit\u001b[0m\u001b[0;34m(\u001b[0m\u001b[0;34m)\u001b[0m\u001b[0;34m\u001b[0m\u001b[0;34m\u001b[0m\u001b[0m\n\u001b[1;32m    633\u001b[0m         \u001b[0;32melse\u001b[0m\u001b[0;34m:\u001b[0m\u001b[0;34m\u001b[0m\u001b[0;34m\u001b[0m\u001b[0m\n\u001b[0;32m--> 634\u001b[0;31m           \u001b[0mout\u001b[0m \u001b[0;34m=\u001b[0m \u001b[0mweak_wrapped_fn\u001b[0m\u001b[0;34m(\u001b[0m\u001b[0;34m)\u001b[0m\u001b[0;34m.\u001b[0m\u001b[0m__wrapped__\u001b[0m\u001b[0;34m(\u001b[0m\u001b[0;34m*\u001b[0m\u001b[0margs\u001b[0m\u001b[0;34m,\u001b[0m \u001b[0;34m**\u001b[0m\u001b[0mkwds\u001b[0m\u001b[0;34m)\u001b[0m\u001b[0;34m\u001b[0m\u001b[0;34m\u001b[0m\u001b[0m\n\u001b[0m\u001b[1;32m    635\u001b[0m         \u001b[0;32mreturn\u001b[0m \u001b[0mout\u001b[0m\u001b[0;34m\u001b[0m\u001b[0;34m\u001b[0m\u001b[0m\n\u001b[1;32m    636\u001b[0m \u001b[0;34m\u001b[0m\u001b[0m\n",
            "\u001b[0;32m/usr/local/lib/python3.6/dist-packages/tensorflow/python/framework/func_graph.py\u001b[0m in \u001b[0;36mwrapper\u001b[0;34m(*args, **kwargs)\u001b[0m\n\u001b[1;32m    975\u001b[0m           \u001b[0;32mexcept\u001b[0m \u001b[0mException\u001b[0m \u001b[0;32mas\u001b[0m \u001b[0me\u001b[0m\u001b[0;34m:\u001b[0m  \u001b[0;31m# pylint:disable=broad-except\u001b[0m\u001b[0;34m\u001b[0m\u001b[0;34m\u001b[0m\u001b[0m\n\u001b[1;32m    976\u001b[0m             \u001b[0;32mif\u001b[0m \u001b[0mhasattr\u001b[0m\u001b[0;34m(\u001b[0m\u001b[0me\u001b[0m\u001b[0;34m,\u001b[0m \u001b[0;34m\"ag_error_metadata\"\u001b[0m\u001b[0;34m)\u001b[0m\u001b[0;34m:\u001b[0m\u001b[0;34m\u001b[0m\u001b[0;34m\u001b[0m\u001b[0m\n\u001b[0;32m--> 977\u001b[0;31m               \u001b[0;32mraise\u001b[0m \u001b[0me\u001b[0m\u001b[0;34m.\u001b[0m\u001b[0mag_error_metadata\u001b[0m\u001b[0;34m.\u001b[0m\u001b[0mto_exception\u001b[0m\u001b[0;34m(\u001b[0m\u001b[0me\u001b[0m\u001b[0;34m)\u001b[0m\u001b[0;34m\u001b[0m\u001b[0;34m\u001b[0m\u001b[0m\n\u001b[0m\u001b[1;32m    978\u001b[0m             \u001b[0;32melse\u001b[0m\u001b[0;34m:\u001b[0m\u001b[0;34m\u001b[0m\u001b[0;34m\u001b[0m\u001b[0m\n\u001b[1;32m    979\u001b[0m               \u001b[0;32mraise\u001b[0m\u001b[0;34m\u001b[0m\u001b[0;34m\u001b[0m\u001b[0m\n",
            "\u001b[0;31mValueError\u001b[0m: in user code:\n\n    /usr/local/lib/python3.6/dist-packages/tensorflow/python/keras/engine/training.py:805 train_function  *\n        return step_function(self, iterator)\n    /usr/local/lib/python3.6/dist-packages/tensorflow/python/keras/engine/training.py:795 step_function  **\n        outputs = model.distribute_strategy.run(run_step, args=(data,))\n    /usr/local/lib/python3.6/dist-packages/tensorflow/python/distribute/distribute_lib.py:1259 run\n        return self._extended.call_for_each_replica(fn, args=args, kwargs=kwargs)\n    /usr/local/lib/python3.6/dist-packages/tensorflow/python/distribute/distribute_lib.py:2730 call_for_each_replica\n        return self._call_for_each_replica(fn, args, kwargs)\n    /usr/local/lib/python3.6/dist-packages/tensorflow/python/distribute/distribute_lib.py:3417 _call_for_each_replica\n        return fn(*args, **kwargs)\n    /usr/local/lib/python3.6/dist-packages/tensorflow/python/keras/engine/training.py:788 run_step  **\n        outputs = model.train_step(data)\n    /usr/local/lib/python3.6/dist-packages/tensorflow/python/keras/engine/training.py:754 train_step\n        y_pred = self(x, training=True)\n    /usr/local/lib/python3.6/dist-packages/tensorflow/python/keras/engine/base_layer.py:1012 __call__\n        outputs = call_fn(inputs, *args, **kwargs)\n    /usr/local/lib/python3.6/dist-packages/tensorflow/python/keras/engine/sequential.py:370 call\n        self._build_graph_network_for_inferred_shape(inputs.shape, inputs.dtype)\n    /usr/local/lib/python3.6/dist-packages/tensorflow/python/training/tracking/base.py:517 _method_wrapper\n        result = method(self, *args, **kwargs)\n    /usr/local/lib/python3.6/dist-packages/tensorflow/python/keras/engine/sequential.py:276 _build_graph_network_for_inferred_shape\n        input_shape = tuple(input_shape)\n    /usr/local/lib/python3.6/dist-packages/tensorflow/python/framework/tensor_shape.py:861 __iter__\n        raise ValueError(\"Cannot iterate over a shape with unknown rank.\")\n\n    ValueError: Cannot iterate over a shape with unknown rank.\n"
          ]
        }
      ]
    },
    {
      "cell_type": "code",
      "metadata": {
        "colab": {
          "base_uri": "https://localhost:8080/"
        },
        "id": "36BBw5JE0IBA",
        "outputId": "f1031f65-4573-40ed-8196-b7534c4f6e26"
      },
      "source": [
        "d"
      ],
      "execution_count": null,
      "outputs": [
        {
          "output_type": "execute_result",
          "data": {
            "text/plain": [
              "<MapDataset shapes: <unknown>, types: tf.float32>"
            ]
          },
          "metadata": {
            "tags": []
          },
          "execution_count": 76
        }
      ]
    },
    {
      "cell_type": "code",
      "metadata": {
        "colab": {
          "base_uri": "https://localhost:8080/"
        },
        "id": "T0wkndkL1K4W",
        "outputId": "b3df51d1-8c06-4052-85f3-9b581281a878"
      },
      "source": [
        "pred = model.predict(test_dataset['x'])\n",
        "pred"
      ],
      "execution_count": null,
      "outputs": [
        {
          "output_type": "execute_result",
          "data": {
            "text/plain": [
              "array([[0.5150976 , 0.48490235],\n",
              "       [0.514298  , 0.48570195],\n",
              "       [0.4987722 , 0.5012278 ],\n",
              "       [0.49138373, 0.50861627],\n",
              "       [0.4935286 , 0.50647134],\n",
              "       [0.49265835, 0.5073416 ],\n",
              "       [0.50774384, 0.4922561 ],\n",
              "       [0.49299395, 0.50700605],\n",
              "       [0.5121858 , 0.48781416],\n",
              "       [0.50692064, 0.4930794 ],\n",
              "       [0.5049989 , 0.4950011 ],\n",
              "       [0.49899256, 0.50100744],\n",
              "       [0.48820788, 0.5117921 ],\n",
              "       [0.5106027 , 0.48939726],\n",
              "       [0.5051882 , 0.49481177],\n",
              "       [0.4977598 , 0.50224024],\n",
              "       [0.50047   , 0.49953002],\n",
              "       [0.5227854 , 0.47721452],\n",
              "       [0.5186937 , 0.48130634],\n",
              "       [0.51950014, 0.48049986],\n",
              "       [0.48514616, 0.51485384],\n",
              "       [0.50298905, 0.49701098],\n",
              "       [0.49556035, 0.5044397 ],\n",
              "       [0.49457353, 0.50542647],\n",
              "       [0.49960962, 0.50039035],\n",
              "       [0.49195248, 0.5080476 ],\n",
              "       [0.50254476, 0.49745527],\n",
              "       [0.49556404, 0.50443596],\n",
              "       [0.49772006, 0.50228   ],\n",
              "       [0.4927822 , 0.5072178 ],\n",
              "       [0.5137857 , 0.48621425],\n",
              "       [0.50142354, 0.49857643],\n",
              "       [0.4980841 , 0.50191593],\n",
              "       [0.50611275, 0.49388725],\n",
              "       [0.49162182, 0.50837815],\n",
              "       [0.49599338, 0.5040066 ],\n",
              "       [0.48903438, 0.5109656 ],\n",
              "       [0.50162446, 0.49837548],\n",
              "       [0.5068513 , 0.49314868],\n",
              "       [0.50983083, 0.49016917],\n",
              "       [0.51387006, 0.4861299 ],\n",
              "       [0.5082477 , 0.49175233],\n",
              "       [0.5102823 , 0.48971772],\n",
              "       [0.5220212 , 0.47797877],\n",
              "       [0.4770255 , 0.5229745 ],\n",
              "       [0.49876776, 0.5012322 ],\n",
              "       [0.47282144, 0.5271786 ],\n",
              "       [0.49907845, 0.50092155],\n",
              "       [0.5033132 , 0.49668682],\n",
              "       [0.49100775, 0.50899225],\n",
              "       [0.49452525, 0.50547475],\n",
              "       [0.49722323, 0.50277674],\n",
              "       [0.50177974, 0.49822024],\n",
              "       [0.5085542 , 0.4914458 ],\n",
              "       [0.50171167, 0.4982883 ],\n",
              "       [0.5270076 , 0.47299248],\n",
              "       [0.50605655, 0.49394342],\n",
              "       [0.47913986, 0.52086014],\n",
              "       [0.49519572, 0.5048043 ],\n",
              "       [0.4817678 , 0.5182322 ],\n",
              "       [0.50414973, 0.4958503 ],\n",
              "       [0.5041247 , 0.49587533],\n",
              "       [0.495634  , 0.50436604],\n",
              "       [0.48908168, 0.5109184 ],\n",
              "       [0.51312053, 0.48687947],\n",
              "       [0.5200297 , 0.47997028],\n",
              "       [0.508043  , 0.49195695],\n",
              "       [0.5098396 , 0.49016044],\n",
              "       [0.5088327 , 0.49116725],\n",
              "       [0.5006099 , 0.4993901 ],\n",
              "       [0.52780896, 0.472191  ],\n",
              "       [0.48341948, 0.51658046],\n",
              "       [0.48386756, 0.5161325 ],\n",
              "       [0.4935936 , 0.5064064 ],\n",
              "       [0.50359124, 0.49640876],\n",
              "       [0.50450754, 0.4954925 ],\n",
              "       [0.49184656, 0.50815344],\n",
              "       [0.50227195, 0.49772805],\n",
              "       [0.49460074, 0.5053993 ],\n",
              "       [0.52285504, 0.477145  ],\n",
              "       [0.5168782 , 0.48312187],\n",
              "       [0.5134707 , 0.4865293 ],\n",
              "       [0.520825  , 0.479175  ],\n",
              "       [0.486677  , 0.513323  ],\n",
              "       [0.5125262 , 0.4874738 ],\n",
              "       [0.50399286, 0.49600714],\n",
              "       [0.49054283, 0.5094572 ],\n",
              "       [0.51000905, 0.48999098],\n",
              "       [0.49754623, 0.50245374],\n",
              "       [0.49122488, 0.5087751 ],\n",
              "       [0.49719825, 0.5028017 ],\n",
              "       [0.49366975, 0.50633025],\n",
              "       [0.5183764 , 0.4816236 ],\n",
              "       [0.5007393 , 0.49926072],\n",
              "       [0.49677223, 0.5032277 ],\n",
              "       [0.48462036, 0.5153796 ],\n",
              "       [0.4982632 , 0.50173676],\n",
              "       [0.5148765 , 0.48512352],\n",
              "       [0.48396936, 0.5160306 ],\n",
              "       [0.49650437, 0.50349563],\n",
              "       [0.50682324, 0.49317673],\n",
              "       [0.50145996, 0.49854004],\n",
              "       [0.4984928 , 0.50150716],\n",
              "       [0.48595804, 0.5140419 ],\n",
              "       [0.49048606, 0.5095139 ],\n",
              "       [0.51386243, 0.4861376 ],\n",
              "       [0.5071949 , 0.49280506],\n",
              "       [0.51230294, 0.4876971 ],\n",
              "       [0.5144922 , 0.48550776],\n",
              "       [0.4996361 , 0.5003639 ],\n",
              "       [0.5133749 , 0.48662505],\n",
              "       [0.5015695 , 0.4984305 ],\n",
              "       [0.50914806, 0.49085194],\n",
              "       [0.49303257, 0.5069674 ],\n",
              "       [0.5028667 , 0.4971333 ],\n",
              "       [0.4999744 , 0.5000256 ],\n",
              "       [0.5084434 , 0.49155658],\n",
              "       [0.47399953, 0.52600044],\n",
              "       [0.50099754, 0.49900243],\n",
              "       [0.5246172 , 0.4753828 ],\n",
              "       [0.51172185, 0.48827818],\n",
              "       [0.49957913, 0.50042087],\n",
              "       [0.4923538 , 0.5076462 ],\n",
              "       [0.5083418 , 0.49165827],\n",
              "       [0.52647907, 0.47352096],\n",
              "       [0.5115939 , 0.48840615],\n",
              "       [0.5004773 , 0.49952275],\n",
              "       [0.49279994, 0.50720006],\n",
              "       [0.49117544, 0.5088246 ],\n",
              "       [0.49084508, 0.509155  ],\n",
              "       [0.5008336 , 0.4991664 ],\n",
              "       [0.48829108, 0.5117089 ],\n",
              "       [0.4863864 , 0.5136136 ],\n",
              "       [0.4995324 , 0.50046754],\n",
              "       [0.49174187, 0.50825816],\n",
              "       [0.5170126 , 0.4829874 ],\n",
              "       [0.5052543 , 0.49474573],\n",
              "       [0.5128865 , 0.48711345],\n",
              "       [0.5119536 , 0.4880464 ],\n",
              "       [0.48989278, 0.5101072 ],\n",
              "       [0.49833995, 0.50166005],\n",
              "       [0.50551903, 0.49448094],\n",
              "       [0.47349986, 0.52650017],\n",
              "       [0.4923402 , 0.5076598 ],\n",
              "       [0.48956022, 0.51043975],\n",
              "       [0.4958377 , 0.5041624 ],\n",
              "       [0.4923383 , 0.5076617 ],\n",
              "       [0.4964466 , 0.5035534 ],\n",
              "       [0.4992647 , 0.50073534],\n",
              "       [0.5133617 , 0.48663834],\n",
              "       [0.5112202 , 0.48877984],\n",
              "       [0.5023767 , 0.49762338],\n",
              "       [0.48778456, 0.5122155 ],\n",
              "       [0.47888127, 0.52111876],\n",
              "       [0.5000534 , 0.4999466 ],\n",
              "       [0.5102024 , 0.48979756],\n",
              "       [0.5102293 , 0.4897707 ],\n",
              "       [0.49207127, 0.5079287 ],\n",
              "       [0.5153235 , 0.48467648],\n",
              "       [0.48595682, 0.5140432 ],\n",
              "       [0.494552  , 0.50544804],\n",
              "       [0.49471322, 0.50528675],\n",
              "       [0.488824  , 0.51117593],\n",
              "       [0.50891006, 0.49108994],\n",
              "       [0.50307316, 0.49692687],\n",
              "       [0.46714506, 0.532855  ],\n",
              "       [0.5024866 , 0.4975134 ],\n",
              "       [0.51107985, 0.48892012],\n",
              "       [0.49774948, 0.5022505 ],\n",
              "       [0.4942087 , 0.50579137],\n",
              "       [0.504502  , 0.49549803],\n",
              "       [0.48706865, 0.5129314 ],\n",
              "       [0.5195452 , 0.4804548 ],\n",
              "       [0.49507132, 0.50492865],\n",
              "       [0.50149846, 0.49850157],\n",
              "       [0.48871198, 0.51128805],\n",
              "       [0.4856075 , 0.5143925 ],\n",
              "       [0.5045112 , 0.49548885],\n",
              "       [0.49209377, 0.5079062 ],\n",
              "       [0.48106286, 0.5189372 ],\n",
              "       [0.4777793 , 0.5222207 ],\n",
              "       [0.4910978 , 0.5089022 ],\n",
              "       [0.49454045, 0.50545955],\n",
              "       [0.4969594 , 0.50304055],\n",
              "       [0.48814273, 0.5118572 ],\n",
              "       [0.4852295 , 0.5147705 ],\n",
              "       [0.49361065, 0.5063894 ],\n",
              "       [0.49070483, 0.50929517],\n",
              "       [0.49180332, 0.50819665],\n",
              "       [0.4963487 , 0.5036513 ],\n",
              "       [0.50294006, 0.49705994],\n",
              "       [0.50234884, 0.4976511 ],\n",
              "       [0.50505245, 0.49494752],\n",
              "       [0.49421638, 0.5057837 ],\n",
              "       [0.48780537, 0.51219463],\n",
              "       [0.50588095, 0.49411902],\n",
              "       [0.49922204, 0.50077796],\n",
              "       [0.48973984, 0.51026016],\n",
              "       [0.49913475, 0.5008653 ],\n",
              "       [0.5021897 , 0.49781033],\n",
              "       [0.49443886, 0.5055611 ],\n",
              "       [0.5101137 , 0.48988628],\n",
              "       [0.49892136, 0.5010786 ],\n",
              "       [0.48645222, 0.5135478 ],\n",
              "       [0.5012181 , 0.49878195],\n",
              "       [0.5039681 , 0.4960319 ],\n",
              "       [0.4919927 , 0.5080072 ],\n",
              "       [0.48823297, 0.511767  ],\n",
              "       [0.51096714, 0.48903286],\n",
              "       [0.46664906, 0.5333509 ],\n",
              "       [0.4990939 , 0.50090617],\n",
              "       [0.48438224, 0.5156178 ],\n",
              "       [0.5005783 , 0.49942172],\n",
              "       [0.49784473, 0.5021553 ],\n",
              "       [0.50289565, 0.49710435],\n",
              "       [0.4936981 , 0.50630194],\n",
              "       [0.49220073, 0.50779927],\n",
              "       [0.5074769 , 0.4925231 ],\n",
              "       [0.49471077, 0.5052892 ],\n",
              "       [0.5006962 , 0.4993038 ],\n",
              "       [0.52040935, 0.4795907 ],\n",
              "       [0.48854244, 0.51145756],\n",
              "       [0.49288994, 0.50711006],\n",
              "       [0.49896848, 0.5010315 ],\n",
              "       [0.49698326, 0.50301677],\n",
              "       [0.49455693, 0.50544304],\n",
              "       [0.4994983 , 0.5005017 ],\n",
              "       [0.48578328, 0.5142167 ],\n",
              "       [0.5008702 , 0.49912974],\n",
              "       [0.49340728, 0.5065927 ],\n",
              "       [0.48567098, 0.51432896],\n",
              "       [0.50017357, 0.49982646],\n",
              "       [0.50745666, 0.49254334],\n",
              "       [0.49679723, 0.5032028 ],\n",
              "       [0.50430965, 0.49569032],\n",
              "       [0.49797407, 0.50202596],\n",
              "       [0.5031547 , 0.49684533],\n",
              "       [0.5164234 , 0.4835766 ],\n",
              "       [0.51790416, 0.48209578],\n",
              "       [0.5144988 , 0.48550123],\n",
              "       [0.5029867 , 0.49701333],\n",
              "       [0.4850774 , 0.51492256],\n",
              "       [0.49494487, 0.5050551 ],\n",
              "       [0.5020798 , 0.49792022],\n",
              "       [0.498661  , 0.50133896],\n",
              "       [0.51553285, 0.48446715],\n",
              "       [0.5032137 , 0.49678624],\n",
              "       [0.51320916, 0.4867908 ],\n",
              "       [0.47708476, 0.52291524],\n",
              "       [0.50157946, 0.4984205 ],\n",
              "       [0.48751113, 0.5124889 ],\n",
              "       [0.49385384, 0.50614613],\n",
              "       [0.48282418, 0.5171758 ],\n",
              "       [0.48670626, 0.51329374],\n",
              "       [0.4921027 , 0.5078973 ],\n",
              "       [0.49936306, 0.50063694],\n",
              "       [0.48389694, 0.516103  ],\n",
              "       [0.49256414, 0.50743586],\n",
              "       [0.46441698, 0.53558296],\n",
              "       [0.51902765, 0.48097238],\n",
              "       [0.4969451 , 0.5030549 ],\n",
              "       [0.48497406, 0.5150259 ],\n",
              "       [0.50413316, 0.4958669 ],\n",
              "       [0.49727553, 0.5027245 ],\n",
              "       [0.4977374 , 0.5022626 ],\n",
              "       [0.4989327 , 0.50106734],\n",
              "       [0.4732782 , 0.52672184],\n",
              "       [0.5011674 , 0.49883258],\n",
              "       [0.5115546 , 0.48844543],\n",
              "       [0.49327523, 0.5067248 ],\n",
              "       [0.49222875, 0.50777125],\n",
              "       [0.5051756 , 0.4948244 ],\n",
              "       [0.49202058, 0.5079794 ],\n",
              "       [0.5055605 , 0.4944395 ],\n",
              "       [0.49671355, 0.5032865 ],\n",
              "       [0.4990841 , 0.50091594],\n",
              "       [0.48761556, 0.5123845 ],\n",
              "       [0.47165033, 0.52834964],\n",
              "       [0.5031201 , 0.4968799 ],\n",
              "       [0.49069095, 0.50930905],\n",
              "       [0.48486522, 0.5151348 ],\n",
              "       [0.46564716, 0.53435284],\n",
              "       [0.4817905 , 0.5182095 ],\n",
              "       [0.51742905, 0.48257095],\n",
              "       [0.52349263, 0.47650734],\n",
              "       [0.5071692 , 0.49283084],\n",
              "       [0.49352998, 0.5064701 ],\n",
              "       [0.48899332, 0.51100665],\n",
              "       [0.49816284, 0.50183713],\n",
              "       [0.51055694, 0.48944303],\n",
              "       [0.48598808, 0.51401186],\n",
              "       [0.49614644, 0.5038535 ],\n",
              "       [0.511079  , 0.48892093],\n",
              "       [0.4699625 , 0.53003746],\n",
              "       [0.50178206, 0.49821797],\n",
              "       [0.49530327, 0.5046967 ],\n",
              "       [0.49136725, 0.5086328 ],\n",
              "       [0.47530934, 0.5246906 ],\n",
              "       [0.50093704, 0.49906293],\n",
              "       [0.49583793, 0.504162  ],\n",
              "       [0.50361276, 0.49638727],\n",
              "       [0.501213  , 0.498787  ],\n",
              "       [0.48297384, 0.5170262 ],\n",
              "       [0.501876  , 0.498124  ],\n",
              "       [0.50793904, 0.492061  ],\n",
              "       [0.5134364 , 0.4865636 ],\n",
              "       [0.49475563, 0.5052444 ],\n",
              "       [0.4916831 , 0.50831693],\n",
              "       [0.4973269 , 0.50267303],\n",
              "       [0.48874867, 0.51125133],\n",
              "       [0.5006164 , 0.49938363],\n",
              "       [0.4887141 , 0.5112859 ],\n",
              "       [0.50235224, 0.49764773],\n",
              "       [0.49202526, 0.50797474],\n",
              "       [0.48665386, 0.51334614],\n",
              "       [0.49849018, 0.5015098 ],\n",
              "       [0.4946803 , 0.5053198 ],\n",
              "       [0.50363374, 0.49636626],\n",
              "       [0.5027131 , 0.49728692],\n",
              "       [0.5013917 , 0.4986083 ],\n",
              "       [0.5214507 , 0.4785493 ],\n",
              "       [0.49016124, 0.50983876],\n",
              "       [0.5040761 , 0.49592385],\n",
              "       [0.49544832, 0.5045517 ],\n",
              "       [0.51019496, 0.489805  ],\n",
              "       [0.49453095, 0.505469  ],\n",
              "       [0.49215057, 0.5078494 ],\n",
              "       [0.5083009 , 0.49169907],\n",
              "       [0.4942128 , 0.5057872 ],\n",
              "       [0.48784068, 0.51215935],\n",
              "       [0.48620453, 0.51379544],\n",
              "       [0.49863547, 0.5013645 ],\n",
              "       [0.49403897, 0.505961  ],\n",
              "       [0.48965463, 0.51034534],\n",
              "       [0.47249424, 0.5275057 ],\n",
              "       [0.49497283, 0.50502723],\n",
              "       [0.494199  , 0.505801  ],\n",
              "       [0.49203056, 0.50796944],\n",
              "       [0.49596184, 0.50403816],\n",
              "       [0.49087894, 0.50912106],\n",
              "       [0.49583337, 0.50416666],\n",
              "       [0.487372  , 0.51262796],\n",
              "       [0.5139605 , 0.4860395 ],\n",
              "       [0.50123215, 0.49876782],\n",
              "       [0.50267875, 0.4973212 ],\n",
              "       [0.50907123, 0.49092877],\n",
              "       [0.4919596 , 0.50804037],\n",
              "       [0.4950012 , 0.5049988 ]], dtype=float32)"
            ]
          },
          "metadata": {
            "tags": []
          },
          "execution_count": 188
        }
      ]
    },
    {
      "cell_type": "code",
      "metadata": {
        "colab": {
          "base_uri": "https://localhost:8080/"
        },
        "id": "JQxbg2vcqAG9",
        "outputId": "9426cf0d-0df5-43ad-cf15-c390c6f7114f"
      },
      "source": [
        "tf.argmax(pred, 1)"
      ],
      "execution_count": null,
      "outputs": [
        {
          "output_type": "execute_result",
          "data": {
            "text/plain": [
              "<tf.Tensor: shape=(352,), dtype=int64, numpy=\n",
              "array([1, 1, 1, 1, 1, 1, 1, 1, 1, 1, 1, 1, 1, 1, 1, 1, 1, 1, 1, 1, 0, 1,\n",
              "       1, 0, 1, 1, 1, 1, 1, 1, 1, 1, 1, 1, 1, 1, 1, 1, 1, 1, 1, 1, 0, 0,\n",
              "       0, 1, 0, 1, 1, 1, 1, 1, 1, 1, 1, 1, 1, 1, 1, 0, 1, 1, 1, 1, 1, 1,\n",
              "       1, 0, 1, 1, 0, 1, 0, 1, 1, 1, 1, 1, 1, 1, 1, 1, 1, 1, 1, 1, 1, 1,\n",
              "       1, 1, 0, 1, 1, 1, 0, 0, 1, 1, 1, 0, 1, 1, 1, 1, 1, 1, 1, 1, 1, 1,\n",
              "       1, 1, 1, 0, 1, 1, 1, 1, 1, 1, 1, 1, 1, 0, 1, 0, 1, 1, 1, 1, 0, 1,\n",
              "       1, 0, 1, 1, 0, 1, 1, 1, 1, 1, 1, 1, 1, 1, 1, 1, 1, 0, 1, 1, 1, 1,\n",
              "       1, 1, 1, 1, 0, 1, 1, 1, 0, 1, 1, 1, 1, 1, 1, 1, 1, 1, 0, 1, 1, 1,\n",
              "       1, 1, 1, 1, 1, 1, 1, 1, 1, 1, 1, 1, 1, 1, 1, 1, 1, 1, 1, 1, 1, 1,\n",
              "       1, 1, 1, 1, 1, 1, 1, 1, 1, 1, 1, 1, 1, 1, 1, 1, 1, 1, 1, 1, 1, 1,\n",
              "       1, 1, 1, 1, 1, 1, 1, 1, 1, 1, 1, 1, 1, 1, 1, 1, 1, 1, 1, 1, 1, 1,\n",
              "       1, 1, 1, 1, 1, 1, 1, 1, 1, 1, 1, 1, 1, 1, 1, 1, 1, 1, 1, 1, 1, 1,\n",
              "       1, 1, 1, 1, 1, 1, 1, 1, 1, 1, 1, 1, 1, 1, 1, 1, 1, 1, 1, 1, 1, 1,\n",
              "       1, 1, 1, 1, 1, 1, 1, 1, 1, 1, 1, 1, 1, 1, 1, 1, 1, 1, 1, 1, 1, 1,\n",
              "       1, 1, 1, 1, 1, 1, 1, 1, 1, 1, 1, 1, 0, 1, 1, 1, 1, 1, 1, 1, 1, 1,\n",
              "       1, 1, 1, 1, 1, 1, 1, 1, 1, 1, 1, 1, 1, 1, 1, 1, 1, 1, 1, 1, 1, 1])>"
            ]
          },
          "metadata": {
            "tags": []
          },
          "execution_count": 83
        }
      ]
    },
    {
      "cell_type": "code",
      "metadata": {
        "colab": {
          "base_uri": "https://localhost:8080/"
        },
        "id": "F6AFtb38qiYx",
        "outputId": "de3e93a8-7d33-4dd1-94ca-a9b412d5c19f"
      },
      "source": [
        "valid_y_true"
      ],
      "execution_count": null,
      "outputs": [
        {
          "output_type": "execute_result",
          "data": {
            "text/plain": [
              "<tf.Tensor: shape=(344, 2), dtype=float32, numpy=\n",
              "array([[1., 0.],\n",
              "       [1., 0.],\n",
              "       [1., 0.],\n",
              "       [1., 0.],\n",
              "       [1., 0.],\n",
              "       [1., 0.],\n",
              "       [1., 0.],\n",
              "       [1., 0.],\n",
              "       [1., 0.],\n",
              "       [1., 0.],\n",
              "       [1., 0.],\n",
              "       [1., 0.],\n",
              "       [1., 0.],\n",
              "       [1., 0.],\n",
              "       [1., 0.],\n",
              "       [1., 0.],\n",
              "       [1., 0.],\n",
              "       [1., 0.],\n",
              "       [1., 0.],\n",
              "       [1., 0.],\n",
              "       [1., 0.],\n",
              "       [1., 0.],\n",
              "       [1., 0.],\n",
              "       [1., 0.],\n",
              "       [1., 0.],\n",
              "       [1., 0.],\n",
              "       [1., 0.],\n",
              "       [1., 0.],\n",
              "       [1., 0.],\n",
              "       [1., 0.],\n",
              "       [1., 0.],\n",
              "       [1., 0.],\n",
              "       [1., 0.],\n",
              "       [1., 0.],\n",
              "       [1., 0.],\n",
              "       [1., 0.],\n",
              "       [1., 0.],\n",
              "       [1., 0.],\n",
              "       [1., 0.],\n",
              "       [1., 0.],\n",
              "       [1., 0.],\n",
              "       [1., 0.],\n",
              "       [1., 0.],\n",
              "       [1., 0.],\n",
              "       [1., 0.],\n",
              "       [1., 0.],\n",
              "       [1., 0.],\n",
              "       [1., 0.],\n",
              "       [1., 0.],\n",
              "       [1., 0.],\n",
              "       [1., 0.],\n",
              "       [1., 0.],\n",
              "       [1., 0.],\n",
              "       [1., 0.],\n",
              "       [1., 0.],\n",
              "       [1., 0.],\n",
              "       [1., 0.],\n",
              "       [1., 0.],\n",
              "       [1., 0.],\n",
              "       [1., 0.],\n",
              "       [1., 0.],\n",
              "       [1., 0.],\n",
              "       [1., 0.],\n",
              "       [1., 0.],\n",
              "       [1., 0.],\n",
              "       [1., 0.],\n",
              "       [1., 0.],\n",
              "       [1., 0.],\n",
              "       [1., 0.],\n",
              "       [1., 0.],\n",
              "       [1., 0.],\n",
              "       [1., 0.],\n",
              "       [1., 0.],\n",
              "       [1., 0.],\n",
              "       [1., 0.],\n",
              "       [1., 0.],\n",
              "       [1., 0.],\n",
              "       [1., 0.],\n",
              "       [1., 0.],\n",
              "       [1., 0.],\n",
              "       [1., 0.],\n",
              "       [1., 0.],\n",
              "       [1., 0.],\n",
              "       [1., 0.],\n",
              "       [1., 0.],\n",
              "       [1., 0.],\n",
              "       [1., 0.],\n",
              "       [1., 0.],\n",
              "       [1., 0.],\n",
              "       [1., 0.],\n",
              "       [1., 0.],\n",
              "       [1., 0.],\n",
              "       [1., 0.],\n",
              "       [1., 0.],\n",
              "       [1., 0.],\n",
              "       [1., 0.],\n",
              "       [1., 0.],\n",
              "       [1., 0.],\n",
              "       [1., 0.],\n",
              "       [1., 0.],\n",
              "       [1., 0.],\n",
              "       [1., 0.],\n",
              "       [1., 0.],\n",
              "       [1., 0.],\n",
              "       [1., 0.],\n",
              "       [1., 0.],\n",
              "       [1., 0.],\n",
              "       [1., 0.],\n",
              "       [1., 0.],\n",
              "       [1., 0.],\n",
              "       [1., 0.],\n",
              "       [1., 0.],\n",
              "       [1., 0.],\n",
              "       [1., 0.],\n",
              "       [1., 0.],\n",
              "       [1., 0.],\n",
              "       [1., 0.],\n",
              "       [1., 0.],\n",
              "       [1., 0.],\n",
              "       [1., 0.],\n",
              "       [1., 0.],\n",
              "       [1., 0.],\n",
              "       [1., 0.],\n",
              "       [1., 0.],\n",
              "       [1., 0.],\n",
              "       [1., 0.],\n",
              "       [1., 0.],\n",
              "       [1., 0.],\n",
              "       [1., 0.],\n",
              "       [1., 0.],\n",
              "       [1., 0.],\n",
              "       [1., 0.],\n",
              "       [1., 0.],\n",
              "       [1., 0.],\n",
              "       [1., 0.],\n",
              "       [1., 0.],\n",
              "       [1., 0.],\n",
              "       [1., 0.],\n",
              "       [1., 0.],\n",
              "       [1., 0.],\n",
              "       [1., 0.],\n",
              "       [1., 0.],\n",
              "       [1., 0.],\n",
              "       [1., 0.],\n",
              "       [1., 0.],\n",
              "       [1., 0.],\n",
              "       [1., 0.],\n",
              "       [1., 0.],\n",
              "       [1., 0.],\n",
              "       [1., 0.],\n",
              "       [1., 0.],\n",
              "       [1., 0.],\n",
              "       [1., 0.],\n",
              "       [1., 0.],\n",
              "       [1., 0.],\n",
              "       [1., 0.],\n",
              "       [1., 0.],\n",
              "       [1., 0.],\n",
              "       [1., 0.],\n",
              "       [1., 0.],\n",
              "       [1., 0.],\n",
              "       [1., 0.],\n",
              "       [1., 0.],\n",
              "       [1., 0.],\n",
              "       [1., 0.],\n",
              "       [1., 0.],\n",
              "       [1., 0.],\n",
              "       [1., 0.],\n",
              "       [1., 0.],\n",
              "       [1., 0.],\n",
              "       [1., 0.],\n",
              "       [1., 0.],\n",
              "       [1., 0.],\n",
              "       [1., 0.],\n",
              "       [1., 0.],\n",
              "       [1., 0.],\n",
              "       [1., 0.],\n",
              "       [1., 0.],\n",
              "       [1., 0.],\n",
              "       [1., 0.],\n",
              "       [0., 1.],\n",
              "       [0., 1.],\n",
              "       [0., 1.],\n",
              "       [0., 1.],\n",
              "       [0., 1.],\n",
              "       [0., 1.],\n",
              "       [0., 1.],\n",
              "       [0., 1.],\n",
              "       [0., 1.],\n",
              "       [0., 1.],\n",
              "       [0., 1.],\n",
              "       [0., 1.],\n",
              "       [0., 1.],\n",
              "       [0., 1.],\n",
              "       [0., 1.],\n",
              "       [0., 1.],\n",
              "       [0., 1.],\n",
              "       [0., 1.],\n",
              "       [0., 1.],\n",
              "       [0., 1.],\n",
              "       [0., 1.],\n",
              "       [0., 1.],\n",
              "       [0., 1.],\n",
              "       [0., 1.],\n",
              "       [0., 1.],\n",
              "       [0., 1.],\n",
              "       [0., 1.],\n",
              "       [0., 1.],\n",
              "       [0., 1.],\n",
              "       [0., 1.],\n",
              "       [0., 1.],\n",
              "       [0., 1.],\n",
              "       [0., 1.],\n",
              "       [0., 1.],\n",
              "       [0., 1.],\n",
              "       [0., 1.],\n",
              "       [0., 1.],\n",
              "       [0., 1.],\n",
              "       [0., 1.],\n",
              "       [0., 1.],\n",
              "       [0., 1.],\n",
              "       [0., 1.],\n",
              "       [0., 1.],\n",
              "       [0., 1.],\n",
              "       [0., 1.],\n",
              "       [0., 1.],\n",
              "       [0., 1.],\n",
              "       [0., 1.],\n",
              "       [0., 1.],\n",
              "       [0., 1.],\n",
              "       [0., 1.],\n",
              "       [0., 1.],\n",
              "       [0., 1.],\n",
              "       [0., 1.],\n",
              "       [0., 1.],\n",
              "       [0., 1.],\n",
              "       [0., 1.],\n",
              "       [0., 1.],\n",
              "       [0., 1.],\n",
              "       [0., 1.],\n",
              "       [0., 1.],\n",
              "       [0., 1.],\n",
              "       [0., 1.],\n",
              "       [0., 1.],\n",
              "       [0., 1.],\n",
              "       [0., 1.],\n",
              "       [0., 1.],\n",
              "       [0., 1.],\n",
              "       [0., 1.],\n",
              "       [0., 1.],\n",
              "       [0., 1.],\n",
              "       [0., 1.],\n",
              "       [0., 1.],\n",
              "       [0., 1.],\n",
              "       [0., 1.],\n",
              "       [0., 1.],\n",
              "       [0., 1.],\n",
              "       [0., 1.],\n",
              "       [0., 1.],\n",
              "       [0., 1.],\n",
              "       [0., 1.],\n",
              "       [0., 1.],\n",
              "       [0., 1.],\n",
              "       [0., 1.],\n",
              "       [0., 1.],\n",
              "       [0., 1.],\n",
              "       [0., 1.],\n",
              "       [0., 1.],\n",
              "       [0., 1.],\n",
              "       [0., 1.],\n",
              "       [0., 1.],\n",
              "       [0., 1.],\n",
              "       [0., 1.],\n",
              "       [0., 1.],\n",
              "       [0., 1.],\n",
              "       [0., 1.],\n",
              "       [0., 1.],\n",
              "       [0., 1.],\n",
              "       [0., 1.],\n",
              "       [0., 1.],\n",
              "       [0., 1.],\n",
              "       [0., 1.],\n",
              "       [0., 1.],\n",
              "       [0., 1.],\n",
              "       [0., 1.],\n",
              "       [0., 1.],\n",
              "       [0., 1.],\n",
              "       [0., 1.],\n",
              "       [0., 1.],\n",
              "       [0., 1.],\n",
              "       [0., 1.],\n",
              "       [0., 1.],\n",
              "       [0., 1.],\n",
              "       [0., 1.],\n",
              "       [0., 1.],\n",
              "       [0., 1.],\n",
              "       [0., 1.],\n",
              "       [0., 1.],\n",
              "       [0., 1.],\n",
              "       [0., 1.],\n",
              "       [0., 1.],\n",
              "       [0., 1.],\n",
              "       [0., 1.],\n",
              "       [0., 1.],\n",
              "       [0., 1.],\n",
              "       [0., 1.],\n",
              "       [0., 1.],\n",
              "       [0., 1.],\n",
              "       [0., 1.],\n",
              "       [0., 1.],\n",
              "       [0., 1.],\n",
              "       [0., 1.],\n",
              "       [0., 1.],\n",
              "       [0., 1.],\n",
              "       [0., 1.],\n",
              "       [0., 1.],\n",
              "       [0., 1.],\n",
              "       [0., 1.],\n",
              "       [0., 1.],\n",
              "       [0., 1.],\n",
              "       [0., 1.],\n",
              "       [0., 1.],\n",
              "       [0., 1.],\n",
              "       [0., 1.],\n",
              "       [0., 1.],\n",
              "       [0., 1.],\n",
              "       [0., 1.],\n",
              "       [0., 1.],\n",
              "       [0., 1.],\n",
              "       [0., 1.],\n",
              "       [0., 1.],\n",
              "       [0., 1.],\n",
              "       [0., 1.],\n",
              "       [0., 1.],\n",
              "       [0., 1.],\n",
              "       [0., 1.],\n",
              "       [0., 1.],\n",
              "       [0., 1.],\n",
              "       [0., 1.],\n",
              "       [0., 1.],\n",
              "       [0., 1.],\n",
              "       [0., 1.],\n",
              "       [0., 1.],\n",
              "       [0., 1.]], dtype=float32)>"
            ]
          },
          "metadata": {
            "tags": []
          },
          "execution_count": 87
        }
      ]
    },
    {
      "cell_type": "code",
      "metadata": {
        "id": "SttlhXrcwl0e"
      },
      "source": [
        "def generate_scanpath(sequence_path: str, x_col: str, y_col: str):\n",
        "\n",
        "  sequence = pd.read_csv(sequence_path)\n",
        "\n",
        "  # remove invalid rows:\n",
        "  sequence = sequence[sequence.iloc[:, 0] != -1]\n",
        "  # show fixations points:\n",
        "  cmap = ['plasma', 'Greys'][0]\n",
        "  plt.scatter(sequence[x_col], sequence[y_col], c=sequence.index, cmap=cmap, alpha=0.5)\n",
        "  # show connections:\n",
        "  plt.plot(sequence[x_col], sequence[y_col], alpha=0.3, c='k')\n",
        "  # set sxes limits:\n",
        "  plt.axis([0, 1100, 0, 1100])\n",
        "  # set origin to (top) left \n",
        "  plt.gca().invert_yaxis()\n",
        "  plt.axis('off')\n",
        "  # dest_path = sequence_path.replace('sequence', 'scanpath').replace('csv', 'png')\n",
        "  # plt.savefig(dest_path, bbox_inches='tight')\n",
        "  # plt.clf()\n"
      ],
      "execution_count": null,
      "outputs": []
    },
    {
      "cell_type": "code",
      "metadata": {
        "colab": {
          "base_uri": "https://localhost:8080/",
          "height": 248
        },
        "id": "qaDy-TkuWVKs",
        "outputId": "8a0441c8-b181-416c-9a65-835bf0314977"
      },
      "source": [
        "# sequence = pd.read_csv('/content/Data/Meara (1 sec)/sequences/0_low/L18-11-1.csv')\n",
        "sequence_path = '/content/Data/Meara (1 sec)/sequences/0_low/L16-11-1.csv'\n",
        "generate_scanpath(sequence_path, x_col='r_GazePointX (ADCSpx)', y_col='r_GazePointY (ADCSpx)')"
      ],
      "execution_count": null,
      "outputs": [
        {
          "output_type": "display_data",
          "data": {
            "image/png": "[encoded data removed]",
            "text/plain": [
              "<Figure size 432x288 with 1 Axes>"
            ]
          },
          "metadata": {
            "tags": [],
            "needs_background": "light"
          }
        }
      ]
    },
    {
      "cell_type": "code",
      "metadata": {
        "colab": {
          "base_uri": "https://localhost:8080/"
        },
        "id": "t5C4DWEvXWAN",
        "outputId": "11a402fa-3955-4451-ad50-547c5d79266c"
      },
      "source": [
        "path = '/content/Data/Meara (1 sec)/scanpaths/0_low/L1-11-1.png'\n",
        "im = PIL.Image.open(path).convert('RGB')\n",
        "im\n",
        "np.array(im).shape"
      ],
      "execution_count": null,
      "outputs": [
        {
          "output_type": "execute_result",
          "data": {
            "text/plain": [
              "(231, 349, 3)"
            ]
          },
          "metadata": {
            "tags": []
          },
          "execution_count": 159
        }
      ]
    },
    {
      "cell_type": "code",
      "metadata": {
        "id": "4UVT5SJdh9CN",
        "colab": {
          "base_uri": "https://localhost:8080/"
        },
        "outputId": "cb99639e-223b-4e97-de79-b1ed78dcec24"
      },
      "source": [
        "dict(zip(model.metrics_names, valid_results))\n",
        "\n"
      ],
      "execution_count": null,
      "outputs": [
        {
          "output_type": "execute_result",
          "data": {
            "text/plain": [
              "{'AUC': 0.6305259466171265,\n",
              " 'accuracy': 0.6067073345184326,\n",
              " 'loss': 0.6655838489532471,\n",
              " 'recall_0': 0.9539473652839661,\n",
              " 'recall_1': 0.3068181872367859}"
            ]
          },
          "metadata": {
            "tags": []
          },
          "execution_count": 48
        }
      ]
    },
    {
      "cell_type": "code",
      "metadata": {
        "colab": {
          "base_uri": "https://localhost:8080/"
        },
        "id": "511rZ_bdB9ci",
        "outputId": "a47020b6-b24e-4711-bba6-0f2007e4e64c"
      },
      "source": [
        "print(f\"\\t - {'hi'} {''.join(['.'] * (15 - len('hi')))} : {8}\")"
      ],
      "execution_count": null,
      "outputs": [
        {
          "output_type": "stream",
          "text": [
            "\t - hi ............. : 8\n"
          ],
          "name": "stdout"
        }
      ]
    },
    {
      "cell_type": "code",
      "metadata": {
        "colab": {
          "base_uri": "https://localhost:8080/",
          "height": 36
        },
        "id": "cjjGlbMxZMzt",
        "outputId": "9dfd864e-e1db-4326-c72f-3cdcbb6e30fc"
      },
      "source": [
        "''.join(['.'] * (15 - len('hi')))"
      ],
      "execution_count": null,
      "outputs": [
        {
          "output_type": "execute_result",
          "data": {
            "application/vnd.google.colaboratory.intrinsic+json": {
              "type": "string"
            },
            "text/plain": [
              "'.............'"
            ]
          },
          "metadata": {
            "tags": []
          },
          "execution_count": 70
        }
      ]
    },
    {
      "cell_type": "code",
      "metadata": {
        "colab": {
          "base_uri": "https://localhost:8080/"
        },
        "id": "nk0214SBZTaM",
        "outputId": "d0e4342b-af2d-42da-c37d-11ae142738df"
      },
      "source": [
        "(list(test_metrics.values())[0])"
      ],
      "execution_count": null,
      "outputs": [
        {
          "output_type": "execute_result",
          "data": {
            "text/plain": [
              "0.39034709334373474"
            ]
          },
          "metadata": {
            "tags": []
          },
          "execution_count": 105
        }
      ]
    },
    {
      "cell_type": "code",
      "metadata": {
        "colab": {
          "base_uri": "https://localhost:8080/"
        },
        "id": "cZJPhVLXc_FZ",
        "outputId": "ad0918ea-4182-49c1-cba7-2b140a570150"
      },
      "source": [
        "a = 0.39034709334373474\n",
        "print(str(a)[:6])"
      ],
      "execution_count": null,
      "outputs": [
        {
          "output_type": "stream",
          "text": [
            "0.3903\n"
          ],
          "name": "stdout"
        }
      ]
    }
  ]
}